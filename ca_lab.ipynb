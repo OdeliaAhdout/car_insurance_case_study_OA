{
 "cells": [
  {
   "cell_type": "code",
   "execution_count": 1,
   "id": "bc9ccfe2-0824-4945-b5ae-12fe29dc934c",
   "metadata": {},
   "outputs": [],
   "source": [
    "import numpy as np\n",
    "import pandas as pd\n",
    "import matplotlib.pyplot as plt\n",
    "%matplotlib inline\n",
    "import seaborn as sns\n",
    "from sklearn.preprocessing import StandardScaler\n",
    "from sklearn.preprocessing import minmax_scale\n",
    "from sklearn.preprocessing import OneHotEncoder\n",
    "from sklearn.linear_model import LinearRegression\n",
    "from sklearn.model_selection import train_test_split\n",
    "from sklearn.preprocessing import PowerTransformer\n",
    "from sklearn.linear_model import LinearRegression\n",
    "import statsmodels.api as sm\n",
    "from scipy.stats import boxcox\n",
    "from sklearn.model_selection import train_test_split\n",
    "from sklearn.metrics import r2_score\n",
    "from sklearn.metrics import mean_squared_error as mse\n",
    "from sklearn.metrics import mean_absolute_error as mae\n",
    "pd.options.display.max_rows = 50"
   ]
  },
  {
   "cell_type": "code",
   "execution_count": 2,
   "id": "338af329-8d56-46e4-a626-f96efcd25f61",
   "metadata": {},
   "outputs": [],
   "source": [
    "file1 = pd.read_csv('file1.csv')\n",
    "file2 = pd.read_csv('file2.csv')\n",
    "file3 = pd.read_csv('file3.csv')"
   ]
  },
  {
   "cell_type": "code",
   "execution_count": 3,
   "id": "6c07e39a-4526-427f-be23-a6902969e5e2",
   "metadata": {},
   "outputs": [
    {
     "data": {
      "text/plain": [
       "['Customer',\n",
       " 'State',\n",
       " 'Customer Lifetime Value',\n",
       " 'Education',\n",
       " 'Gender',\n",
       " 'Income',\n",
       " 'Monthly Premium Auto',\n",
       " 'Number of Open Complaints',\n",
       " 'Policy Type',\n",
       " 'Total Claim Amount',\n",
       " 'Vehicle Class']"
      ]
     },
     "execution_count": 3,
     "metadata": {},
     "output_type": "execute_result"
    }
   ],
   "source": [
    "list(file3.columns)"
   ]
  },
  {
   "cell_type": "code",
   "execution_count": 4,
   "id": "3dd75f8a-0244-4fc2-a5f6-1aafa20e3162",
   "metadata": {},
   "outputs": [],
   "source": [
    "def rename_columns(file3):\n",
    "    file3.rename(columns={\"Gender\":\"GENDER\", \"State\":\"ST\"}, inplace=True)\n",
    "    return file3"
   ]
  },
  {
   "cell_type": "code",
   "execution_count": 5,
   "id": "19f1101e-366e-4e01-8a82-7c22c5c5e723",
   "metadata": {},
   "outputs": [],
   "source": [
    "file3_corrected = rename_columns(file3)"
   ]
  },
  {
   "cell_type": "code",
   "execution_count": 6,
   "id": "3285c6f9-c156-43ea-b07a-118790c4c89f",
   "metadata": {},
   "outputs": [
    {
     "data": {
      "text/plain": [
       "['Customer',\n",
       " 'ST',\n",
       " 'Customer Lifetime Value',\n",
       " 'Education',\n",
       " 'GENDER',\n",
       " 'Income',\n",
       " 'Monthly Premium Auto',\n",
       " 'Number of Open Complaints',\n",
       " 'Policy Type',\n",
       " 'Total Claim Amount',\n",
       " 'Vehicle Class']"
      ]
     },
     "execution_count": 6,
     "metadata": {},
     "output_type": "execute_result"
    }
   ],
   "source": [
    "list(file3)"
   ]
  },
  {
   "cell_type": "code",
   "execution_count": 7,
   "id": "57975c75-5821-48e6-9ea1-556452e7721e",
   "metadata": {},
   "outputs": [
    {
     "data": {
      "text/plain": [
       "['Customer',\n",
       " 'ST',\n",
       " 'GENDER',\n",
       " 'Education',\n",
       " 'Customer Lifetime Value',\n",
       " 'Income',\n",
       " 'Monthly Premium Auto',\n",
       " 'Number of Open Complaints',\n",
       " 'Policy Type',\n",
       " 'Vehicle Class',\n",
       " 'Total Claim Amount']"
      ]
     },
     "execution_count": 7,
     "metadata": {},
     "output_type": "execute_result"
    }
   ],
   "source": [
    "list(file1)"
   ]
  },
  {
   "cell_type": "code",
   "execution_count": 8,
   "id": "a9e78075-79c8-4b62-be76-fd842a07a724",
   "metadata": {},
   "outputs": [
    {
     "data": {
      "text/plain": [
       "['Customer',\n",
       " 'ST',\n",
       " 'GENDER',\n",
       " 'Education',\n",
       " 'Customer Lifetime Value',\n",
       " 'Income',\n",
       " 'Monthly Premium Auto',\n",
       " 'Number of Open Complaints',\n",
       " 'Total Claim Amount',\n",
       " 'Policy Type',\n",
       " 'Vehicle Class']"
      ]
     },
     "execution_count": 8,
     "metadata": {},
     "output_type": "execute_result"
    }
   ],
   "source": [
    "list(file2)"
   ]
  },
  {
   "cell_type": "code",
   "execution_count": 9,
   "id": "8ce252e6-6e4c-498b-bdf7-06879e3c15d1",
   "metadata": {},
   "outputs": [],
   "source": [
    "def merge():\n",
    "    file1 = pd.read_csv('file1.csv')\n",
    "    file2 = pd.read_csv('file2.csv')\n",
    "    file3_corrected \n",
    "    return pd.concat([file1,file2,file3_corrected], axis=0, ignore_index=True)"
   ]
  },
  {
   "cell_type": "code",
   "execution_count": 10,
   "id": "3bd341f0-fbfe-466e-af8d-4581c6f417ff",
   "metadata": {},
   "outputs": [],
   "source": [
    "ca_df = merge()"
   ]
  },
  {
   "cell_type": "code",
   "execution_count": 11,
   "id": "6ee05bc0-a554-4105-8592-a8f2ae8967cb",
   "metadata": {},
   "outputs": [
    {
     "data": {
      "text/html": [
       "<div>\n",
       "<style scoped>\n",
       "    .dataframe tbody tr th:only-of-type {\n",
       "        vertical-align: middle;\n",
       "    }\n",
       "\n",
       "    .dataframe tbody tr th {\n",
       "        vertical-align: top;\n",
       "    }\n",
       "\n",
       "    .dataframe thead th {\n",
       "        text-align: right;\n",
       "    }\n",
       "</style>\n",
       "<table border=\"1\" class=\"dataframe\">\n",
       "  <thead>\n",
       "    <tr style=\"text-align: right;\">\n",
       "      <th></th>\n",
       "      <th>Customer</th>\n",
       "      <th>ST</th>\n",
       "      <th>GENDER</th>\n",
       "      <th>Education</th>\n",
       "      <th>Customer Lifetime Value</th>\n",
       "      <th>Income</th>\n",
       "      <th>Monthly Premium Auto</th>\n",
       "      <th>Number of Open Complaints</th>\n",
       "      <th>Policy Type</th>\n",
       "      <th>Vehicle Class</th>\n",
       "      <th>Total Claim Amount</th>\n",
       "    </tr>\n",
       "  </thead>\n",
       "  <tbody>\n",
       "    <tr>\n",
       "      <th>0</th>\n",
       "      <td>RB50392</td>\n",
       "      <td>Washington</td>\n",
       "      <td>NaN</td>\n",
       "      <td>Master</td>\n",
       "      <td>NaN</td>\n",
       "      <td>0.0</td>\n",
       "      <td>1000.0</td>\n",
       "      <td>1/0/00</td>\n",
       "      <td>Personal Auto</td>\n",
       "      <td>Four-Door Car</td>\n",
       "      <td>2.704934</td>\n",
       "    </tr>\n",
       "    <tr>\n",
       "      <th>1</th>\n",
       "      <td>QZ44356</td>\n",
       "      <td>Arizona</td>\n",
       "      <td>F</td>\n",
       "      <td>Bachelor</td>\n",
       "      <td>697953.59%</td>\n",
       "      <td>0.0</td>\n",
       "      <td>94.0</td>\n",
       "      <td>1/0/00</td>\n",
       "      <td>Personal Auto</td>\n",
       "      <td>Four-Door Car</td>\n",
       "      <td>1131.464935</td>\n",
       "    </tr>\n",
       "    <tr>\n",
       "      <th>2</th>\n",
       "      <td>AI49188</td>\n",
       "      <td>Nevada</td>\n",
       "      <td>F</td>\n",
       "      <td>Bachelor</td>\n",
       "      <td>1288743.17%</td>\n",
       "      <td>48767.0</td>\n",
       "      <td>108.0</td>\n",
       "      <td>1/0/00</td>\n",
       "      <td>Personal Auto</td>\n",
       "      <td>Two-Door Car</td>\n",
       "      <td>566.472247</td>\n",
       "    </tr>\n",
       "    <tr>\n",
       "      <th>3</th>\n",
       "      <td>WW63253</td>\n",
       "      <td>California</td>\n",
       "      <td>M</td>\n",
       "      <td>Bachelor</td>\n",
       "      <td>764586.18%</td>\n",
       "      <td>0.0</td>\n",
       "      <td>106.0</td>\n",
       "      <td>1/0/00</td>\n",
       "      <td>Corporate Auto</td>\n",
       "      <td>SUV</td>\n",
       "      <td>529.881344</td>\n",
       "    </tr>\n",
       "    <tr>\n",
       "      <th>4</th>\n",
       "      <td>GA49547</td>\n",
       "      <td>Washington</td>\n",
       "      <td>M</td>\n",
       "      <td>High School or Below</td>\n",
       "      <td>536307.65%</td>\n",
       "      <td>36357.0</td>\n",
       "      <td>68.0</td>\n",
       "      <td>1/0/00</td>\n",
       "      <td>Personal Auto</td>\n",
       "      <td>Four-Door Car</td>\n",
       "      <td>17.269323</td>\n",
       "    </tr>\n",
       "    <tr>\n",
       "      <th>...</th>\n",
       "      <td>...</td>\n",
       "      <td>...</td>\n",
       "      <td>...</td>\n",
       "      <td>...</td>\n",
       "      <td>...</td>\n",
       "      <td>...</td>\n",
       "      <td>...</td>\n",
       "      <td>...</td>\n",
       "      <td>...</td>\n",
       "      <td>...</td>\n",
       "      <td>...</td>\n",
       "    </tr>\n",
       "    <tr>\n",
       "      <th>12069</th>\n",
       "      <td>LA72316</td>\n",
       "      <td>California</td>\n",
       "      <td>M</td>\n",
       "      <td>Bachelor</td>\n",
       "      <td>23405.98798</td>\n",
       "      <td>71941.0</td>\n",
       "      <td>73.0</td>\n",
       "      <td>0</td>\n",
       "      <td>Personal Auto</td>\n",
       "      <td>Four-Door Car</td>\n",
       "      <td>198.234764</td>\n",
       "    </tr>\n",
       "    <tr>\n",
       "      <th>12070</th>\n",
       "      <td>PK87824</td>\n",
       "      <td>California</td>\n",
       "      <td>F</td>\n",
       "      <td>College</td>\n",
       "      <td>3096.511217</td>\n",
       "      <td>21604.0</td>\n",
       "      <td>79.0</td>\n",
       "      <td>0</td>\n",
       "      <td>Corporate Auto</td>\n",
       "      <td>Four-Door Car</td>\n",
       "      <td>379.200000</td>\n",
       "    </tr>\n",
       "    <tr>\n",
       "      <th>12071</th>\n",
       "      <td>TD14365</td>\n",
       "      <td>California</td>\n",
       "      <td>M</td>\n",
       "      <td>Bachelor</td>\n",
       "      <td>8163.890428</td>\n",
       "      <td>0.0</td>\n",
       "      <td>85.0</td>\n",
       "      <td>3</td>\n",
       "      <td>Corporate Auto</td>\n",
       "      <td>Four-Door Car</td>\n",
       "      <td>790.784983</td>\n",
       "    </tr>\n",
       "    <tr>\n",
       "      <th>12072</th>\n",
       "      <td>UP19263</td>\n",
       "      <td>California</td>\n",
       "      <td>M</td>\n",
       "      <td>College</td>\n",
       "      <td>7524.442436</td>\n",
       "      <td>21941.0</td>\n",
       "      <td>96.0</td>\n",
       "      <td>0</td>\n",
       "      <td>Personal Auto</td>\n",
       "      <td>Four-Door Car</td>\n",
       "      <td>691.200000</td>\n",
       "    </tr>\n",
       "    <tr>\n",
       "      <th>12073</th>\n",
       "      <td>Y167826</td>\n",
       "      <td>California</td>\n",
       "      <td>M</td>\n",
       "      <td>College</td>\n",
       "      <td>2611.836866</td>\n",
       "      <td>0.0</td>\n",
       "      <td>77.0</td>\n",
       "      <td>0</td>\n",
       "      <td>Corporate Auto</td>\n",
       "      <td>Two-Door Car</td>\n",
       "      <td>369.600000</td>\n",
       "    </tr>\n",
       "  </tbody>\n",
       "</table>\n",
       "<p>12074 rows × 11 columns</p>\n",
       "</div>"
      ],
      "text/plain": [
       "      Customer          ST GENDER             Education  \\\n",
       "0      RB50392  Washington    NaN                Master   \n",
       "1      QZ44356     Arizona      F              Bachelor   \n",
       "2      AI49188      Nevada      F              Bachelor   \n",
       "3      WW63253  California      M              Bachelor   \n",
       "4      GA49547  Washington      M  High School or Below   \n",
       "...        ...         ...    ...                   ...   \n",
       "12069  LA72316  California      M              Bachelor   \n",
       "12070  PK87824  California      F               College   \n",
       "12071  TD14365  California      M              Bachelor   \n",
       "12072  UP19263  California      M               College   \n",
       "12073  Y167826  California      M               College   \n",
       "\n",
       "      Customer Lifetime Value   Income  Monthly Premium Auto  \\\n",
       "0                         NaN      0.0                1000.0   \n",
       "1                  697953.59%      0.0                  94.0   \n",
       "2                 1288743.17%  48767.0                 108.0   \n",
       "3                  764586.18%      0.0                 106.0   \n",
       "4                  536307.65%  36357.0                  68.0   \n",
       "...                       ...      ...                   ...   \n",
       "12069             23405.98798  71941.0                  73.0   \n",
       "12070             3096.511217  21604.0                  79.0   \n",
       "12071             8163.890428      0.0                  85.0   \n",
       "12072             7524.442436  21941.0                  96.0   \n",
       "12073             2611.836866      0.0                  77.0   \n",
       "\n",
       "      Number of Open Complaints     Policy Type  Vehicle Class  \\\n",
       "0                        1/0/00   Personal Auto  Four-Door Car   \n",
       "1                        1/0/00   Personal Auto  Four-Door Car   \n",
       "2                        1/0/00   Personal Auto   Two-Door Car   \n",
       "3                        1/0/00  Corporate Auto            SUV   \n",
       "4                        1/0/00   Personal Auto  Four-Door Car   \n",
       "...                         ...             ...            ...   \n",
       "12069                         0   Personal Auto  Four-Door Car   \n",
       "12070                         0  Corporate Auto  Four-Door Car   \n",
       "12071                         3  Corporate Auto  Four-Door Car   \n",
       "12072                         0   Personal Auto  Four-Door Car   \n",
       "12073                         0  Corporate Auto   Two-Door Car   \n",
       "\n",
       "       Total Claim Amount  \n",
       "0                2.704934  \n",
       "1             1131.464935  \n",
       "2              566.472247  \n",
       "3              529.881344  \n",
       "4               17.269323  \n",
       "...                   ...  \n",
       "12069          198.234764  \n",
       "12070          379.200000  \n",
       "12071          790.784983  \n",
       "12072          691.200000  \n",
       "12073          369.600000  \n",
       "\n",
       "[12074 rows x 11 columns]"
      ]
     },
     "execution_count": 11,
     "metadata": {},
     "output_type": "execute_result"
    }
   ],
   "source": [
    "ca_df"
   ]
  },
  {
   "cell_type": "code",
   "execution_count": 12,
   "id": "2331f239-ee07-4273-920b-9356b48043fd",
   "metadata": {},
   "outputs": [
    {
     "data": {
      "text/html": [
       "<div>\n",
       "<style scoped>\n",
       "    .dataframe tbody tr th:only-of-type {\n",
       "        vertical-align: middle;\n",
       "    }\n",
       "\n",
       "    .dataframe tbody tr th {\n",
       "        vertical-align: top;\n",
       "    }\n",
       "\n",
       "    .dataframe thead th {\n",
       "        text-align: right;\n",
       "    }\n",
       "</style>\n",
       "<table border=\"1\" class=\"dataframe\">\n",
       "  <thead>\n",
       "    <tr style=\"text-align: right;\">\n",
       "      <th></th>\n",
       "      <th>Customer</th>\n",
       "      <th>ST</th>\n",
       "      <th>Customer Lifetime Value</th>\n",
       "      <th>Education</th>\n",
       "      <th>GENDER</th>\n",
       "      <th>Income</th>\n",
       "      <th>Monthly Premium Auto</th>\n",
       "      <th>Number of Open Complaints</th>\n",
       "      <th>Policy Type</th>\n",
       "      <th>Total Claim Amount</th>\n",
       "      <th>Vehicle Class</th>\n",
       "    </tr>\n",
       "  </thead>\n",
       "  <tbody>\n",
       "    <tr>\n",
       "      <th>0</th>\n",
       "      <td>SA25987</td>\n",
       "      <td>Washington</td>\n",
       "      <td>3479.137523</td>\n",
       "      <td>High School or Below</td>\n",
       "      <td>M</td>\n",
       "      <td>0</td>\n",
       "      <td>104</td>\n",
       "      <td>0</td>\n",
       "      <td>Personal Auto</td>\n",
       "      <td>499.200000</td>\n",
       "      <td>Two-Door Car</td>\n",
       "    </tr>\n",
       "    <tr>\n",
       "      <th>1</th>\n",
       "      <td>TB86706</td>\n",
       "      <td>Arizona</td>\n",
       "      <td>2502.637401</td>\n",
       "      <td>Master</td>\n",
       "      <td>M</td>\n",
       "      <td>0</td>\n",
       "      <td>66</td>\n",
       "      <td>0</td>\n",
       "      <td>Personal Auto</td>\n",
       "      <td>3.468912</td>\n",
       "      <td>Two-Door Car</td>\n",
       "    </tr>\n",
       "    <tr>\n",
       "      <th>2</th>\n",
       "      <td>ZL73902</td>\n",
       "      <td>Nevada</td>\n",
       "      <td>3265.156348</td>\n",
       "      <td>Bachelor</td>\n",
       "      <td>F</td>\n",
       "      <td>25820</td>\n",
       "      <td>82</td>\n",
       "      <td>0</td>\n",
       "      <td>Personal Auto</td>\n",
       "      <td>393.600000</td>\n",
       "      <td>Four-Door Car</td>\n",
       "    </tr>\n",
       "    <tr>\n",
       "      <th>3</th>\n",
       "      <td>KX23516</td>\n",
       "      <td>California</td>\n",
       "      <td>4455.843406</td>\n",
       "      <td>High School or Below</td>\n",
       "      <td>F</td>\n",
       "      <td>0</td>\n",
       "      <td>121</td>\n",
       "      <td>0</td>\n",
       "      <td>Personal Auto</td>\n",
       "      <td>699.615192</td>\n",
       "      <td>SUV</td>\n",
       "    </tr>\n",
       "    <tr>\n",
       "      <th>4</th>\n",
       "      <td>FN77294</td>\n",
       "      <td>California</td>\n",
       "      <td>7704.958480</td>\n",
       "      <td>High School or Below</td>\n",
       "      <td>M</td>\n",
       "      <td>30366</td>\n",
       "      <td>101</td>\n",
       "      <td>2</td>\n",
       "      <td>Personal Auto</td>\n",
       "      <td>484.800000</td>\n",
       "      <td>SUV</td>\n",
       "    </tr>\n",
       "    <tr>\n",
       "      <th>...</th>\n",
       "      <td>...</td>\n",
       "      <td>...</td>\n",
       "      <td>...</td>\n",
       "      <td>...</td>\n",
       "      <td>...</td>\n",
       "      <td>...</td>\n",
       "      <td>...</td>\n",
       "      <td>...</td>\n",
       "      <td>...</td>\n",
       "      <td>...</td>\n",
       "      <td>...</td>\n",
       "    </tr>\n",
       "    <tr>\n",
       "      <th>7065</th>\n",
       "      <td>LA72316</td>\n",
       "      <td>California</td>\n",
       "      <td>23405.987980</td>\n",
       "      <td>Bachelor</td>\n",
       "      <td>M</td>\n",
       "      <td>71941</td>\n",
       "      <td>73</td>\n",
       "      <td>0</td>\n",
       "      <td>Personal Auto</td>\n",
       "      <td>198.234764</td>\n",
       "      <td>Four-Door Car</td>\n",
       "    </tr>\n",
       "    <tr>\n",
       "      <th>7066</th>\n",
       "      <td>PK87824</td>\n",
       "      <td>California</td>\n",
       "      <td>3096.511217</td>\n",
       "      <td>College</td>\n",
       "      <td>F</td>\n",
       "      <td>21604</td>\n",
       "      <td>79</td>\n",
       "      <td>0</td>\n",
       "      <td>Corporate Auto</td>\n",
       "      <td>379.200000</td>\n",
       "      <td>Four-Door Car</td>\n",
       "    </tr>\n",
       "    <tr>\n",
       "      <th>7067</th>\n",
       "      <td>TD14365</td>\n",
       "      <td>California</td>\n",
       "      <td>8163.890428</td>\n",
       "      <td>Bachelor</td>\n",
       "      <td>M</td>\n",
       "      <td>0</td>\n",
       "      <td>85</td>\n",
       "      <td>3</td>\n",
       "      <td>Corporate Auto</td>\n",
       "      <td>790.784983</td>\n",
       "      <td>Four-Door Car</td>\n",
       "    </tr>\n",
       "    <tr>\n",
       "      <th>7068</th>\n",
       "      <td>UP19263</td>\n",
       "      <td>California</td>\n",
       "      <td>7524.442436</td>\n",
       "      <td>College</td>\n",
       "      <td>M</td>\n",
       "      <td>21941</td>\n",
       "      <td>96</td>\n",
       "      <td>0</td>\n",
       "      <td>Personal Auto</td>\n",
       "      <td>691.200000</td>\n",
       "      <td>Four-Door Car</td>\n",
       "    </tr>\n",
       "    <tr>\n",
       "      <th>7069</th>\n",
       "      <td>Y167826</td>\n",
       "      <td>California</td>\n",
       "      <td>2611.836866</td>\n",
       "      <td>College</td>\n",
       "      <td>M</td>\n",
       "      <td>0</td>\n",
       "      <td>77</td>\n",
       "      <td>0</td>\n",
       "      <td>Corporate Auto</td>\n",
       "      <td>369.600000</td>\n",
       "      <td>Two-Door Car</td>\n",
       "    </tr>\n",
       "  </tbody>\n",
       "</table>\n",
       "<p>7070 rows × 11 columns</p>\n",
       "</div>"
      ],
      "text/plain": [
       "     Customer          ST  Customer Lifetime Value             Education  \\\n",
       "0     SA25987  Washington              3479.137523  High School or Below   \n",
       "1     TB86706     Arizona              2502.637401                Master   \n",
       "2     ZL73902      Nevada              3265.156348              Bachelor   \n",
       "3     KX23516  California              4455.843406  High School or Below   \n",
       "4     FN77294  California              7704.958480  High School or Below   \n",
       "...       ...         ...                      ...                   ...   \n",
       "7065  LA72316  California             23405.987980              Bachelor   \n",
       "7066  PK87824  California              3096.511217               College   \n",
       "7067  TD14365  California              8163.890428              Bachelor   \n",
       "7068  UP19263  California              7524.442436               College   \n",
       "7069  Y167826  California              2611.836866               College   \n",
       "\n",
       "     GENDER  Income  Monthly Premium Auto  Number of Open Complaints  \\\n",
       "0         M       0                   104                          0   \n",
       "1         M       0                    66                          0   \n",
       "2         F   25820                    82                          0   \n",
       "3         F       0                   121                          0   \n",
       "4         M   30366                   101                          2   \n",
       "...     ...     ...                   ...                        ...   \n",
       "7065      M   71941                    73                          0   \n",
       "7066      F   21604                    79                          0   \n",
       "7067      M       0                    85                          3   \n",
       "7068      M   21941                    96                          0   \n",
       "7069      M       0                    77                          0   \n",
       "\n",
       "         Policy Type  Total Claim Amount  Vehicle Class  \n",
       "0      Personal Auto          499.200000   Two-Door Car  \n",
       "1      Personal Auto            3.468912   Two-Door Car  \n",
       "2      Personal Auto          393.600000  Four-Door Car  \n",
       "3      Personal Auto          699.615192            SUV  \n",
       "4      Personal Auto          484.800000            SUV  \n",
       "...              ...                 ...            ...  \n",
       "7065   Personal Auto          198.234764  Four-Door Car  \n",
       "7066  Corporate Auto          379.200000  Four-Door Car  \n",
       "7067  Corporate Auto          790.784983  Four-Door Car  \n",
       "7068   Personal Auto          691.200000  Four-Door Car  \n",
       "7069  Corporate Auto          369.600000   Two-Door Car  \n",
       "\n",
       "[7070 rows x 11 columns]"
      ]
     },
     "execution_count": 12,
     "metadata": {},
     "output_type": "execute_result"
    }
   ],
   "source": [
    "file3_corrected"
   ]
  },
  {
   "cell_type": "code",
   "execution_count": 13,
   "id": "8c3af548-760f-4972-9c1f-989c10a9bf78",
   "metadata": {},
   "outputs": [],
   "source": [
    "def rename_columns(ca_df):\n",
    "    ca_df.rename(columns={\"ST\": \"State\", \"GENDER\": \"Gender\"}, inplace=True)\n",
    "    return ca_df"
   ]
  },
  {
   "cell_type": "code",
   "execution_count": 14,
   "id": "e218a44e-b6a4-4a0b-9cf8-da88888eaa2e",
   "metadata": {},
   "outputs": [
    {
     "data": {
      "text/html": [
       "<div>\n",
       "<style scoped>\n",
       "    .dataframe tbody tr th:only-of-type {\n",
       "        vertical-align: middle;\n",
       "    }\n",
       "\n",
       "    .dataframe tbody tr th {\n",
       "        vertical-align: top;\n",
       "    }\n",
       "\n",
       "    .dataframe thead th {\n",
       "        text-align: right;\n",
       "    }\n",
       "</style>\n",
       "<table border=\"1\" class=\"dataframe\">\n",
       "  <thead>\n",
       "    <tr style=\"text-align: right;\">\n",
       "      <th></th>\n",
       "      <th>Customer</th>\n",
       "      <th>State</th>\n",
       "      <th>Gender</th>\n",
       "      <th>Education</th>\n",
       "      <th>Customer Lifetime Value</th>\n",
       "      <th>Income</th>\n",
       "      <th>Monthly Premium Auto</th>\n",
       "      <th>Number of Open Complaints</th>\n",
       "      <th>Policy Type</th>\n",
       "      <th>Vehicle Class</th>\n",
       "      <th>Total Claim Amount</th>\n",
       "    </tr>\n",
       "  </thead>\n",
       "  <tbody>\n",
       "    <tr>\n",
       "      <th>0</th>\n",
       "      <td>RB50392</td>\n",
       "      <td>Washington</td>\n",
       "      <td>NaN</td>\n",
       "      <td>Master</td>\n",
       "      <td>NaN</td>\n",
       "      <td>0.0</td>\n",
       "      <td>1000.0</td>\n",
       "      <td>1/0/00</td>\n",
       "      <td>Personal Auto</td>\n",
       "      <td>Four-Door Car</td>\n",
       "      <td>2.704934</td>\n",
       "    </tr>\n",
       "    <tr>\n",
       "      <th>1</th>\n",
       "      <td>QZ44356</td>\n",
       "      <td>Arizona</td>\n",
       "      <td>F</td>\n",
       "      <td>Bachelor</td>\n",
       "      <td>697953.59%</td>\n",
       "      <td>0.0</td>\n",
       "      <td>94.0</td>\n",
       "      <td>1/0/00</td>\n",
       "      <td>Personal Auto</td>\n",
       "      <td>Four-Door Car</td>\n",
       "      <td>1131.464935</td>\n",
       "    </tr>\n",
       "    <tr>\n",
       "      <th>2</th>\n",
       "      <td>AI49188</td>\n",
       "      <td>Nevada</td>\n",
       "      <td>F</td>\n",
       "      <td>Bachelor</td>\n",
       "      <td>1288743.17%</td>\n",
       "      <td>48767.0</td>\n",
       "      <td>108.0</td>\n",
       "      <td>1/0/00</td>\n",
       "      <td>Personal Auto</td>\n",
       "      <td>Two-Door Car</td>\n",
       "      <td>566.472247</td>\n",
       "    </tr>\n",
       "    <tr>\n",
       "      <th>3</th>\n",
       "      <td>WW63253</td>\n",
       "      <td>California</td>\n",
       "      <td>M</td>\n",
       "      <td>Bachelor</td>\n",
       "      <td>764586.18%</td>\n",
       "      <td>0.0</td>\n",
       "      <td>106.0</td>\n",
       "      <td>1/0/00</td>\n",
       "      <td>Corporate Auto</td>\n",
       "      <td>SUV</td>\n",
       "      <td>529.881344</td>\n",
       "    </tr>\n",
       "    <tr>\n",
       "      <th>4</th>\n",
       "      <td>GA49547</td>\n",
       "      <td>Washington</td>\n",
       "      <td>M</td>\n",
       "      <td>High School or Below</td>\n",
       "      <td>536307.65%</td>\n",
       "      <td>36357.0</td>\n",
       "      <td>68.0</td>\n",
       "      <td>1/0/00</td>\n",
       "      <td>Personal Auto</td>\n",
       "      <td>Four-Door Car</td>\n",
       "      <td>17.269323</td>\n",
       "    </tr>\n",
       "    <tr>\n",
       "      <th>...</th>\n",
       "      <td>...</td>\n",
       "      <td>...</td>\n",
       "      <td>...</td>\n",
       "      <td>...</td>\n",
       "      <td>...</td>\n",
       "      <td>...</td>\n",
       "      <td>...</td>\n",
       "      <td>...</td>\n",
       "      <td>...</td>\n",
       "      <td>...</td>\n",
       "      <td>...</td>\n",
       "    </tr>\n",
       "    <tr>\n",
       "      <th>12069</th>\n",
       "      <td>LA72316</td>\n",
       "      <td>California</td>\n",
       "      <td>M</td>\n",
       "      <td>Bachelor</td>\n",
       "      <td>23405.98798</td>\n",
       "      <td>71941.0</td>\n",
       "      <td>73.0</td>\n",
       "      <td>0</td>\n",
       "      <td>Personal Auto</td>\n",
       "      <td>Four-Door Car</td>\n",
       "      <td>198.234764</td>\n",
       "    </tr>\n",
       "    <tr>\n",
       "      <th>12070</th>\n",
       "      <td>PK87824</td>\n",
       "      <td>California</td>\n",
       "      <td>F</td>\n",
       "      <td>College</td>\n",
       "      <td>3096.511217</td>\n",
       "      <td>21604.0</td>\n",
       "      <td>79.0</td>\n",
       "      <td>0</td>\n",
       "      <td>Corporate Auto</td>\n",
       "      <td>Four-Door Car</td>\n",
       "      <td>379.200000</td>\n",
       "    </tr>\n",
       "    <tr>\n",
       "      <th>12071</th>\n",
       "      <td>TD14365</td>\n",
       "      <td>California</td>\n",
       "      <td>M</td>\n",
       "      <td>Bachelor</td>\n",
       "      <td>8163.890428</td>\n",
       "      <td>0.0</td>\n",
       "      <td>85.0</td>\n",
       "      <td>3</td>\n",
       "      <td>Corporate Auto</td>\n",
       "      <td>Four-Door Car</td>\n",
       "      <td>790.784983</td>\n",
       "    </tr>\n",
       "    <tr>\n",
       "      <th>12072</th>\n",
       "      <td>UP19263</td>\n",
       "      <td>California</td>\n",
       "      <td>M</td>\n",
       "      <td>College</td>\n",
       "      <td>7524.442436</td>\n",
       "      <td>21941.0</td>\n",
       "      <td>96.0</td>\n",
       "      <td>0</td>\n",
       "      <td>Personal Auto</td>\n",
       "      <td>Four-Door Car</td>\n",
       "      <td>691.200000</td>\n",
       "    </tr>\n",
       "    <tr>\n",
       "      <th>12073</th>\n",
       "      <td>Y167826</td>\n",
       "      <td>California</td>\n",
       "      <td>M</td>\n",
       "      <td>College</td>\n",
       "      <td>2611.836866</td>\n",
       "      <td>0.0</td>\n",
       "      <td>77.0</td>\n",
       "      <td>0</td>\n",
       "      <td>Corporate Auto</td>\n",
       "      <td>Two-Door Car</td>\n",
       "      <td>369.600000</td>\n",
       "    </tr>\n",
       "  </tbody>\n",
       "</table>\n",
       "<p>12074 rows × 11 columns</p>\n",
       "</div>"
      ],
      "text/plain": [
       "      Customer       State Gender             Education  \\\n",
       "0      RB50392  Washington    NaN                Master   \n",
       "1      QZ44356     Arizona      F              Bachelor   \n",
       "2      AI49188      Nevada      F              Bachelor   \n",
       "3      WW63253  California      M              Bachelor   \n",
       "4      GA49547  Washington      M  High School or Below   \n",
       "...        ...         ...    ...                   ...   \n",
       "12069  LA72316  California      M              Bachelor   \n",
       "12070  PK87824  California      F               College   \n",
       "12071  TD14365  California      M              Bachelor   \n",
       "12072  UP19263  California      M               College   \n",
       "12073  Y167826  California      M               College   \n",
       "\n",
       "      Customer Lifetime Value   Income  Monthly Premium Auto  \\\n",
       "0                         NaN      0.0                1000.0   \n",
       "1                  697953.59%      0.0                  94.0   \n",
       "2                 1288743.17%  48767.0                 108.0   \n",
       "3                  764586.18%      0.0                 106.0   \n",
       "4                  536307.65%  36357.0                  68.0   \n",
       "...                       ...      ...                   ...   \n",
       "12069             23405.98798  71941.0                  73.0   \n",
       "12070             3096.511217  21604.0                  79.0   \n",
       "12071             8163.890428      0.0                  85.0   \n",
       "12072             7524.442436  21941.0                  96.0   \n",
       "12073             2611.836866      0.0                  77.0   \n",
       "\n",
       "      Number of Open Complaints     Policy Type  Vehicle Class  \\\n",
       "0                        1/0/00   Personal Auto  Four-Door Car   \n",
       "1                        1/0/00   Personal Auto  Four-Door Car   \n",
       "2                        1/0/00   Personal Auto   Two-Door Car   \n",
       "3                        1/0/00  Corporate Auto            SUV   \n",
       "4                        1/0/00   Personal Auto  Four-Door Car   \n",
       "...                         ...             ...            ...   \n",
       "12069                         0   Personal Auto  Four-Door Car   \n",
       "12070                         0  Corporate Auto  Four-Door Car   \n",
       "12071                         3  Corporate Auto  Four-Door Car   \n",
       "12072                         0   Personal Auto  Four-Door Car   \n",
       "12073                         0  Corporate Auto   Two-Door Car   \n",
       "\n",
       "       Total Claim Amount  \n",
       "0                2.704934  \n",
       "1             1131.464935  \n",
       "2              566.472247  \n",
       "3              529.881344  \n",
       "4               17.269323  \n",
       "...                   ...  \n",
       "12069          198.234764  \n",
       "12070          379.200000  \n",
       "12071          790.784983  \n",
       "12072          691.200000  \n",
       "12073          369.600000  \n",
       "\n",
       "[12074 rows x 11 columns]"
      ]
     },
     "execution_count": 14,
     "metadata": {},
     "output_type": "execute_result"
    }
   ],
   "source": [
    "rename_columns(ca_df)"
   ]
  },
  {
   "cell_type": "code",
   "execution_count": 15,
   "id": "529d61cd-3b64-4169-8701-1a14900a7a71",
   "metadata": {},
   "outputs": [],
   "source": [
    "def lower_columns_labels(ca_df):\n",
    "    ca_df.columns = [i.lower() for i in ca_df.columns]\n",
    "    return ca_df"
   ]
  },
  {
   "cell_type": "code",
   "execution_count": 16,
   "id": "8db9387f-1117-4fee-a6b9-486864c04739",
   "metadata": {},
   "outputs": [
    {
     "data": {
      "text/html": [
       "<div>\n",
       "<style scoped>\n",
       "    .dataframe tbody tr th:only-of-type {\n",
       "        vertical-align: middle;\n",
       "    }\n",
       "\n",
       "    .dataframe tbody tr th {\n",
       "        vertical-align: top;\n",
       "    }\n",
       "\n",
       "    .dataframe thead th {\n",
       "        text-align: right;\n",
       "    }\n",
       "</style>\n",
       "<table border=\"1\" class=\"dataframe\">\n",
       "  <thead>\n",
       "    <tr style=\"text-align: right;\">\n",
       "      <th></th>\n",
       "      <th>customer</th>\n",
       "      <th>state</th>\n",
       "      <th>gender</th>\n",
       "      <th>education</th>\n",
       "      <th>customer lifetime value</th>\n",
       "      <th>income</th>\n",
       "      <th>monthly premium auto</th>\n",
       "      <th>number of open complaints</th>\n",
       "      <th>policy type</th>\n",
       "      <th>vehicle class</th>\n",
       "      <th>total claim amount</th>\n",
       "    </tr>\n",
       "  </thead>\n",
       "  <tbody>\n",
       "    <tr>\n",
       "      <th>0</th>\n",
       "      <td>RB50392</td>\n",
       "      <td>Washington</td>\n",
       "      <td>NaN</td>\n",
       "      <td>Master</td>\n",
       "      <td>NaN</td>\n",
       "      <td>0.0</td>\n",
       "      <td>1000.0</td>\n",
       "      <td>1/0/00</td>\n",
       "      <td>Personal Auto</td>\n",
       "      <td>Four-Door Car</td>\n",
       "      <td>2.704934</td>\n",
       "    </tr>\n",
       "    <tr>\n",
       "      <th>1</th>\n",
       "      <td>QZ44356</td>\n",
       "      <td>Arizona</td>\n",
       "      <td>F</td>\n",
       "      <td>Bachelor</td>\n",
       "      <td>697953.59%</td>\n",
       "      <td>0.0</td>\n",
       "      <td>94.0</td>\n",
       "      <td>1/0/00</td>\n",
       "      <td>Personal Auto</td>\n",
       "      <td>Four-Door Car</td>\n",
       "      <td>1131.464935</td>\n",
       "    </tr>\n",
       "    <tr>\n",
       "      <th>2</th>\n",
       "      <td>AI49188</td>\n",
       "      <td>Nevada</td>\n",
       "      <td>F</td>\n",
       "      <td>Bachelor</td>\n",
       "      <td>1288743.17%</td>\n",
       "      <td>48767.0</td>\n",
       "      <td>108.0</td>\n",
       "      <td>1/0/00</td>\n",
       "      <td>Personal Auto</td>\n",
       "      <td>Two-Door Car</td>\n",
       "      <td>566.472247</td>\n",
       "    </tr>\n",
       "    <tr>\n",
       "      <th>3</th>\n",
       "      <td>WW63253</td>\n",
       "      <td>California</td>\n",
       "      <td>M</td>\n",
       "      <td>Bachelor</td>\n",
       "      <td>764586.18%</td>\n",
       "      <td>0.0</td>\n",
       "      <td>106.0</td>\n",
       "      <td>1/0/00</td>\n",
       "      <td>Corporate Auto</td>\n",
       "      <td>SUV</td>\n",
       "      <td>529.881344</td>\n",
       "    </tr>\n",
       "    <tr>\n",
       "      <th>4</th>\n",
       "      <td>GA49547</td>\n",
       "      <td>Washington</td>\n",
       "      <td>M</td>\n",
       "      <td>High School or Below</td>\n",
       "      <td>536307.65%</td>\n",
       "      <td>36357.0</td>\n",
       "      <td>68.0</td>\n",
       "      <td>1/0/00</td>\n",
       "      <td>Personal Auto</td>\n",
       "      <td>Four-Door Car</td>\n",
       "      <td>17.269323</td>\n",
       "    </tr>\n",
       "    <tr>\n",
       "      <th>...</th>\n",
       "      <td>...</td>\n",
       "      <td>...</td>\n",
       "      <td>...</td>\n",
       "      <td>...</td>\n",
       "      <td>...</td>\n",
       "      <td>...</td>\n",
       "      <td>...</td>\n",
       "      <td>...</td>\n",
       "      <td>...</td>\n",
       "      <td>...</td>\n",
       "      <td>...</td>\n",
       "    </tr>\n",
       "    <tr>\n",
       "      <th>12069</th>\n",
       "      <td>LA72316</td>\n",
       "      <td>California</td>\n",
       "      <td>M</td>\n",
       "      <td>Bachelor</td>\n",
       "      <td>23405.98798</td>\n",
       "      <td>71941.0</td>\n",
       "      <td>73.0</td>\n",
       "      <td>0</td>\n",
       "      <td>Personal Auto</td>\n",
       "      <td>Four-Door Car</td>\n",
       "      <td>198.234764</td>\n",
       "    </tr>\n",
       "    <tr>\n",
       "      <th>12070</th>\n",
       "      <td>PK87824</td>\n",
       "      <td>California</td>\n",
       "      <td>F</td>\n",
       "      <td>College</td>\n",
       "      <td>3096.511217</td>\n",
       "      <td>21604.0</td>\n",
       "      <td>79.0</td>\n",
       "      <td>0</td>\n",
       "      <td>Corporate Auto</td>\n",
       "      <td>Four-Door Car</td>\n",
       "      <td>379.200000</td>\n",
       "    </tr>\n",
       "    <tr>\n",
       "      <th>12071</th>\n",
       "      <td>TD14365</td>\n",
       "      <td>California</td>\n",
       "      <td>M</td>\n",
       "      <td>Bachelor</td>\n",
       "      <td>8163.890428</td>\n",
       "      <td>0.0</td>\n",
       "      <td>85.0</td>\n",
       "      <td>3</td>\n",
       "      <td>Corporate Auto</td>\n",
       "      <td>Four-Door Car</td>\n",
       "      <td>790.784983</td>\n",
       "    </tr>\n",
       "    <tr>\n",
       "      <th>12072</th>\n",
       "      <td>UP19263</td>\n",
       "      <td>California</td>\n",
       "      <td>M</td>\n",
       "      <td>College</td>\n",
       "      <td>7524.442436</td>\n",
       "      <td>21941.0</td>\n",
       "      <td>96.0</td>\n",
       "      <td>0</td>\n",
       "      <td>Personal Auto</td>\n",
       "      <td>Four-Door Car</td>\n",
       "      <td>691.200000</td>\n",
       "    </tr>\n",
       "    <tr>\n",
       "      <th>12073</th>\n",
       "      <td>Y167826</td>\n",
       "      <td>California</td>\n",
       "      <td>M</td>\n",
       "      <td>College</td>\n",
       "      <td>2611.836866</td>\n",
       "      <td>0.0</td>\n",
       "      <td>77.0</td>\n",
       "      <td>0</td>\n",
       "      <td>Corporate Auto</td>\n",
       "      <td>Two-Door Car</td>\n",
       "      <td>369.600000</td>\n",
       "    </tr>\n",
       "  </tbody>\n",
       "</table>\n",
       "<p>12074 rows × 11 columns</p>\n",
       "</div>"
      ],
      "text/plain": [
       "      customer       state gender             education  \\\n",
       "0      RB50392  Washington    NaN                Master   \n",
       "1      QZ44356     Arizona      F              Bachelor   \n",
       "2      AI49188      Nevada      F              Bachelor   \n",
       "3      WW63253  California      M              Bachelor   \n",
       "4      GA49547  Washington      M  High School or Below   \n",
       "...        ...         ...    ...                   ...   \n",
       "12069  LA72316  California      M              Bachelor   \n",
       "12070  PK87824  California      F               College   \n",
       "12071  TD14365  California      M              Bachelor   \n",
       "12072  UP19263  California      M               College   \n",
       "12073  Y167826  California      M               College   \n",
       "\n",
       "      customer lifetime value   income  monthly premium auto  \\\n",
       "0                         NaN      0.0                1000.0   \n",
       "1                  697953.59%      0.0                  94.0   \n",
       "2                 1288743.17%  48767.0                 108.0   \n",
       "3                  764586.18%      0.0                 106.0   \n",
       "4                  536307.65%  36357.0                  68.0   \n",
       "...                       ...      ...                   ...   \n",
       "12069             23405.98798  71941.0                  73.0   \n",
       "12070             3096.511217  21604.0                  79.0   \n",
       "12071             8163.890428      0.0                  85.0   \n",
       "12072             7524.442436  21941.0                  96.0   \n",
       "12073             2611.836866      0.0                  77.0   \n",
       "\n",
       "      number of open complaints     policy type  vehicle class  \\\n",
       "0                        1/0/00   Personal Auto  Four-Door Car   \n",
       "1                        1/0/00   Personal Auto  Four-Door Car   \n",
       "2                        1/0/00   Personal Auto   Two-Door Car   \n",
       "3                        1/0/00  Corporate Auto            SUV   \n",
       "4                        1/0/00   Personal Auto  Four-Door Car   \n",
       "...                         ...             ...            ...   \n",
       "12069                         0   Personal Auto  Four-Door Car   \n",
       "12070                         0  Corporate Auto  Four-Door Car   \n",
       "12071                         3  Corporate Auto  Four-Door Car   \n",
       "12072                         0   Personal Auto  Four-Door Car   \n",
       "12073                         0  Corporate Auto   Two-Door Car   \n",
       "\n",
       "       total claim amount  \n",
       "0                2.704934  \n",
       "1             1131.464935  \n",
       "2              566.472247  \n",
       "3              529.881344  \n",
       "4               17.269323  \n",
       "...                   ...  \n",
       "12069          198.234764  \n",
       "12070          379.200000  \n",
       "12071          790.784983  \n",
       "12072          691.200000  \n",
       "12073          369.600000  \n",
       "\n",
       "[12074 rows x 11 columns]"
      ]
     },
     "execution_count": 16,
     "metadata": {},
     "output_type": "execute_result"
    }
   ],
   "source": [
    "ca_df = lower_columns_labels(ca_df)\n",
    "ca_df"
   ]
  },
  {
   "cell_type": "code",
   "execution_count": 17,
   "id": "c0a79edf-2ff2-4de0-a5c7-3a34d7da6f6f",
   "metadata": {},
   "outputs": [],
   "source": [
    "def discard_column(ca_df):\n",
    "    ca_df.drop(columns = [\"customer\"], inplace = True)\n",
    "    return ca_df"
   ]
  },
  {
   "cell_type": "code",
   "execution_count": 18,
   "id": "c8a3ec5a-0efd-4cb7-8790-26ef869ebbed",
   "metadata": {},
   "outputs": [
    {
     "data": {
      "text/html": [
       "<div>\n",
       "<style scoped>\n",
       "    .dataframe tbody tr th:only-of-type {\n",
       "        vertical-align: middle;\n",
       "    }\n",
       "\n",
       "    .dataframe tbody tr th {\n",
       "        vertical-align: top;\n",
       "    }\n",
       "\n",
       "    .dataframe thead th {\n",
       "        text-align: right;\n",
       "    }\n",
       "</style>\n",
       "<table border=\"1\" class=\"dataframe\">\n",
       "  <thead>\n",
       "    <tr style=\"text-align: right;\">\n",
       "      <th></th>\n",
       "      <th>state</th>\n",
       "      <th>gender</th>\n",
       "      <th>education</th>\n",
       "      <th>customer lifetime value</th>\n",
       "      <th>income</th>\n",
       "      <th>monthly premium auto</th>\n",
       "      <th>number of open complaints</th>\n",
       "      <th>policy type</th>\n",
       "      <th>vehicle class</th>\n",
       "      <th>total claim amount</th>\n",
       "    </tr>\n",
       "  </thead>\n",
       "  <tbody>\n",
       "    <tr>\n",
       "      <th>0</th>\n",
       "      <td>Washington</td>\n",
       "      <td>NaN</td>\n",
       "      <td>Master</td>\n",
       "      <td>NaN</td>\n",
       "      <td>0.0</td>\n",
       "      <td>1000.0</td>\n",
       "      <td>1/0/00</td>\n",
       "      <td>Personal Auto</td>\n",
       "      <td>Four-Door Car</td>\n",
       "      <td>2.704934</td>\n",
       "    </tr>\n",
       "    <tr>\n",
       "      <th>1</th>\n",
       "      <td>Arizona</td>\n",
       "      <td>F</td>\n",
       "      <td>Bachelor</td>\n",
       "      <td>697953.59%</td>\n",
       "      <td>0.0</td>\n",
       "      <td>94.0</td>\n",
       "      <td>1/0/00</td>\n",
       "      <td>Personal Auto</td>\n",
       "      <td>Four-Door Car</td>\n",
       "      <td>1131.464935</td>\n",
       "    </tr>\n",
       "    <tr>\n",
       "      <th>2</th>\n",
       "      <td>Nevada</td>\n",
       "      <td>F</td>\n",
       "      <td>Bachelor</td>\n",
       "      <td>1288743.17%</td>\n",
       "      <td>48767.0</td>\n",
       "      <td>108.0</td>\n",
       "      <td>1/0/00</td>\n",
       "      <td>Personal Auto</td>\n",
       "      <td>Two-Door Car</td>\n",
       "      <td>566.472247</td>\n",
       "    </tr>\n",
       "    <tr>\n",
       "      <th>3</th>\n",
       "      <td>California</td>\n",
       "      <td>M</td>\n",
       "      <td>Bachelor</td>\n",
       "      <td>764586.18%</td>\n",
       "      <td>0.0</td>\n",
       "      <td>106.0</td>\n",
       "      <td>1/0/00</td>\n",
       "      <td>Corporate Auto</td>\n",
       "      <td>SUV</td>\n",
       "      <td>529.881344</td>\n",
       "    </tr>\n",
       "    <tr>\n",
       "      <th>4</th>\n",
       "      <td>Washington</td>\n",
       "      <td>M</td>\n",
       "      <td>High School or Below</td>\n",
       "      <td>536307.65%</td>\n",
       "      <td>36357.0</td>\n",
       "      <td>68.0</td>\n",
       "      <td>1/0/00</td>\n",
       "      <td>Personal Auto</td>\n",
       "      <td>Four-Door Car</td>\n",
       "      <td>17.269323</td>\n",
       "    </tr>\n",
       "    <tr>\n",
       "      <th>...</th>\n",
       "      <td>...</td>\n",
       "      <td>...</td>\n",
       "      <td>...</td>\n",
       "      <td>...</td>\n",
       "      <td>...</td>\n",
       "      <td>...</td>\n",
       "      <td>...</td>\n",
       "      <td>...</td>\n",
       "      <td>...</td>\n",
       "      <td>...</td>\n",
       "    </tr>\n",
       "    <tr>\n",
       "      <th>12069</th>\n",
       "      <td>California</td>\n",
       "      <td>M</td>\n",
       "      <td>Bachelor</td>\n",
       "      <td>23405.98798</td>\n",
       "      <td>71941.0</td>\n",
       "      <td>73.0</td>\n",
       "      <td>0</td>\n",
       "      <td>Personal Auto</td>\n",
       "      <td>Four-Door Car</td>\n",
       "      <td>198.234764</td>\n",
       "    </tr>\n",
       "    <tr>\n",
       "      <th>12070</th>\n",
       "      <td>California</td>\n",
       "      <td>F</td>\n",
       "      <td>College</td>\n",
       "      <td>3096.511217</td>\n",
       "      <td>21604.0</td>\n",
       "      <td>79.0</td>\n",
       "      <td>0</td>\n",
       "      <td>Corporate Auto</td>\n",
       "      <td>Four-Door Car</td>\n",
       "      <td>379.200000</td>\n",
       "    </tr>\n",
       "    <tr>\n",
       "      <th>12071</th>\n",
       "      <td>California</td>\n",
       "      <td>M</td>\n",
       "      <td>Bachelor</td>\n",
       "      <td>8163.890428</td>\n",
       "      <td>0.0</td>\n",
       "      <td>85.0</td>\n",
       "      <td>3</td>\n",
       "      <td>Corporate Auto</td>\n",
       "      <td>Four-Door Car</td>\n",
       "      <td>790.784983</td>\n",
       "    </tr>\n",
       "    <tr>\n",
       "      <th>12072</th>\n",
       "      <td>California</td>\n",
       "      <td>M</td>\n",
       "      <td>College</td>\n",
       "      <td>7524.442436</td>\n",
       "      <td>21941.0</td>\n",
       "      <td>96.0</td>\n",
       "      <td>0</td>\n",
       "      <td>Personal Auto</td>\n",
       "      <td>Four-Door Car</td>\n",
       "      <td>691.200000</td>\n",
       "    </tr>\n",
       "    <tr>\n",
       "      <th>12073</th>\n",
       "      <td>California</td>\n",
       "      <td>M</td>\n",
       "      <td>College</td>\n",
       "      <td>2611.836866</td>\n",
       "      <td>0.0</td>\n",
       "      <td>77.0</td>\n",
       "      <td>0</td>\n",
       "      <td>Corporate Auto</td>\n",
       "      <td>Two-Door Car</td>\n",
       "      <td>369.600000</td>\n",
       "    </tr>\n",
       "  </tbody>\n",
       "</table>\n",
       "<p>12074 rows × 10 columns</p>\n",
       "</div>"
      ],
      "text/plain": [
       "            state gender             education customer lifetime value  \\\n",
       "0      Washington    NaN                Master                     NaN   \n",
       "1         Arizona      F              Bachelor              697953.59%   \n",
       "2          Nevada      F              Bachelor             1288743.17%   \n",
       "3      California      M              Bachelor              764586.18%   \n",
       "4      Washington      M  High School or Below              536307.65%   \n",
       "...           ...    ...                   ...                     ...   \n",
       "12069  California      M              Bachelor             23405.98798   \n",
       "12070  California      F               College             3096.511217   \n",
       "12071  California      M              Bachelor             8163.890428   \n",
       "12072  California      M               College             7524.442436   \n",
       "12073  California      M               College             2611.836866   \n",
       "\n",
       "        income  monthly premium auto number of open complaints  \\\n",
       "0          0.0                1000.0                    1/0/00   \n",
       "1          0.0                  94.0                    1/0/00   \n",
       "2      48767.0                 108.0                    1/0/00   \n",
       "3          0.0                 106.0                    1/0/00   \n",
       "4      36357.0                  68.0                    1/0/00   \n",
       "...        ...                   ...                       ...   \n",
       "12069  71941.0                  73.0                         0   \n",
       "12070  21604.0                  79.0                         0   \n",
       "12071      0.0                  85.0                         3   \n",
       "12072  21941.0                  96.0                         0   \n",
       "12073      0.0                  77.0                         0   \n",
       "\n",
       "          policy type  vehicle class  total claim amount  \n",
       "0       Personal Auto  Four-Door Car            2.704934  \n",
       "1       Personal Auto  Four-Door Car         1131.464935  \n",
       "2       Personal Auto   Two-Door Car          566.472247  \n",
       "3      Corporate Auto            SUV          529.881344  \n",
       "4       Personal Auto  Four-Door Car           17.269323  \n",
       "...               ...            ...                 ...  \n",
       "12069   Personal Auto  Four-Door Car          198.234764  \n",
       "12070  Corporate Auto  Four-Door Car          379.200000  \n",
       "12071  Corporate Auto  Four-Door Car          790.784983  \n",
       "12072   Personal Auto  Four-Door Car          691.200000  \n",
       "12073  Corporate Auto   Two-Door Car          369.600000  \n",
       "\n",
       "[12074 rows x 10 columns]"
      ]
     },
     "execution_count": 18,
     "metadata": {},
     "output_type": "execute_result"
    }
   ],
   "source": [
    "discard_column(ca_df)"
   ]
  },
  {
   "cell_type": "code",
   "execution_count": 19,
   "id": "c3b6f983-1984-4991-8b8c-9aa1ab729c15",
   "metadata": {},
   "outputs": [
    {
     "data": {
      "text/plain": [
       "state                         object\n",
       "gender                        object\n",
       "education                     object\n",
       "customer lifetime value       object\n",
       "income                       float64\n",
       "monthly premium auto         float64\n",
       "number of open complaints     object\n",
       "policy type                   object\n",
       "vehicle class                 object\n",
       "total claim amount           float64\n",
       "dtype: object"
      ]
     },
     "execution_count": 19,
     "metadata": {},
     "output_type": "execute_result"
    }
   ],
   "source": [
    "ca_df.dtypes"
   ]
  },
  {
   "cell_type": "code",
   "execution_count": 20,
   "id": "a062fd2f",
   "metadata": {},
   "outputs": [
    {
     "data": {
      "text/plain": [
       "array(['Master', 'Bachelor', 'High School or Below', 'College',\n",
       "       'Bachelors', 'Doctor', nan], dtype=object)"
      ]
     },
     "execution_count": 20,
     "metadata": {},
     "output_type": "execute_result"
    }
   ],
   "source": [
    "ca_df.education.unique()"
   ]
  },
  {
   "cell_type": "code",
   "execution_count": 21,
   "id": "203f64ed",
   "metadata": {},
   "outputs": [
    {
     "data": {
      "text/plain": [
       "array(['Four-Door Car', 'Two-Door Car', 'SUV', 'Luxury SUV', 'Sports Car',\n",
       "       'Luxury Car', nan], dtype=object)"
      ]
     },
     "execution_count": 21,
     "metadata": {},
     "output_type": "execute_result"
    }
   ],
   "source": [
    "ca_df[\"vehicle class\"].unique()"
   ]
  },
  {
   "cell_type": "code",
   "execution_count": 22,
   "id": "3a7a6a41",
   "metadata": {},
   "outputs": [
    {
     "data": {
      "text/plain": [
       "array(['Personal Auto', 'Corporate Auto', 'Special Auto', nan],\n",
       "      dtype=object)"
      ]
     },
     "execution_count": 22,
     "metadata": {},
     "output_type": "execute_result"
    }
   ],
   "source": [
    "ca_df[\"policy type\"].unique()"
   ]
  },
  {
   "cell_type": "code",
   "execution_count": 23,
   "id": "de738d1b-d3ce-45c1-9bdf-26367519004c",
   "metadata": {},
   "outputs": [],
   "source": [
    "## Numerical columns: cleaning\n",
    "\n",
    "ca_df[\"customer lifetime value\"] = ca_df[\"customer lifetime value\"].astype(str).str.replace(\"%\", \"\")"
   ]
  },
  {
   "cell_type": "code",
   "execution_count": 24,
   "id": "dd7180ed",
   "metadata": {},
   "outputs": [
    {
     "data": {
      "text/plain": [
       "<bound method NDFrame.head of 0                nan\n",
       "1          697953.59\n",
       "2         1288743.17\n",
       "3          764586.18\n",
       "4          536307.65\n",
       "            ...     \n",
       "12069    23405.98798\n",
       "12070    3096.511217\n",
       "12071    8163.890428\n",
       "12072    7524.442436\n",
       "12073    2611.836866\n",
       "Name: customer lifetime value, Length: 12074, dtype: object>"
      ]
     },
     "execution_count": 24,
     "metadata": {},
     "output_type": "execute_result"
    }
   ],
   "source": [
    "ca_df[\"customer lifetime value\"].head"
   ]
  },
  {
   "cell_type": "code",
   "execution_count": 25,
   "id": "2d43cd0c",
   "metadata": {},
   "outputs": [],
   "source": [
    "ca_df['customer lifetime value'] =  pd.to_numeric(ca_df['customer lifetime value'], errors='coerce')"
   ]
  },
  {
   "cell_type": "code",
   "execution_count": 26,
   "id": "12a3bb77",
   "metadata": {},
   "outputs": [
    {
     "data": {
      "text/plain": [
       "0                 NaN\n",
       "1        6.979536e+05\n",
       "2        1.288743e+06\n",
       "3        7.645862e+05\n",
       "4        5.363077e+05\n",
       "             ...     \n",
       "12069    2.340599e+04\n",
       "12070    3.096511e+03\n",
       "12071    8.163890e+03\n",
       "12072    7.524442e+03\n",
       "12073    2.611837e+03\n",
       "Name: customer lifetime value, Length: 12074, dtype: float64"
      ]
     },
     "execution_count": 26,
     "metadata": {},
     "output_type": "execute_result"
    }
   ],
   "source": [
    "ca_df['customer lifetime value']"
   ]
  },
  {
   "cell_type": "code",
   "execution_count": 27,
   "id": "bfcc8efd-e45a-43bf-a476-4bc3508521a2",
   "metadata": {},
   "outputs": [],
   "source": [
    "ca_df[\"number of open complaints\"] = list(map(lambda x:int(x[2]) if isinstance(x, str) else x, ca_df[\"number of open complaints\"]))"
   ]
  },
  {
   "cell_type": "code",
   "execution_count": 28,
   "id": "d5b133b1-24d7-4928-9b3c-0d455e0ee656",
   "metadata": {},
   "outputs": [],
   "source": [
    "ca_df['number of open complaints'] =  pd.to_numeric(ca_df['number of open complaints'], errors='coerce')"
   ]
  },
  {
   "cell_type": "code",
   "execution_count": 29,
   "id": "fd1c1175-1ebe-47a4-9173-015d117959b4",
   "metadata": {},
   "outputs": [
    {
     "data": {
      "text/plain": [
       "array([ 0.,  2.,  1.,  3.,  5.,  4., nan])"
      ]
     },
     "execution_count": 29,
     "metadata": {},
     "output_type": "execute_result"
    }
   ],
   "source": [
    "ca_df['number of open complaints'].unique()"
   ]
  },
  {
   "cell_type": "code",
   "execution_count": 30,
   "id": "8d7333d1-e3d3-4936-b83e-692bf0f57d4e",
   "metadata": {},
   "outputs": [
    {
     "data": {
      "text/plain": [
       "state                         object\n",
       "gender                        object\n",
       "education                     object\n",
       "customer lifetime value      float64\n",
       "income                       float64\n",
       "monthly premium auto         float64\n",
       "number of open complaints    float64\n",
       "policy type                   object\n",
       "vehicle class                 object\n",
       "total claim amount           float64\n",
       "dtype: object"
      ]
     },
     "execution_count": 30,
     "metadata": {},
     "output_type": "execute_result"
    }
   ],
   "source": [
    "ca_df.dtypes"
   ]
  },
  {
   "cell_type": "code",
   "execution_count": 33,
   "id": "11750d40",
   "metadata": {},
   "outputs": [],
   "source": [
    "ca_df = ca_df.drop_duplicates()"
   ]
  },
  {
   "cell_type": "code",
   "execution_count": 34,
   "id": "b1c99d88",
   "metadata": {},
   "outputs": [
    {
     "data": {
      "text/html": [
       "<div>\n",
       "<style scoped>\n",
       "    .dataframe tbody tr th:only-of-type {\n",
       "        vertical-align: middle;\n",
       "    }\n",
       "\n",
       "    .dataframe tbody tr th {\n",
       "        vertical-align: top;\n",
       "    }\n",
       "\n",
       "    .dataframe thead th {\n",
       "        text-align: right;\n",
       "    }\n",
       "</style>\n",
       "<table border=\"1\" class=\"dataframe\">\n",
       "  <thead>\n",
       "    <tr style=\"text-align: right;\">\n",
       "      <th></th>\n",
       "      <th>state</th>\n",
       "      <th>gender</th>\n",
       "      <th>education</th>\n",
       "      <th>customer lifetime value</th>\n",
       "      <th>income</th>\n",
       "      <th>monthly premium auto</th>\n",
       "      <th>number of open complaints</th>\n",
       "      <th>policy type</th>\n",
       "      <th>vehicle class</th>\n",
       "      <th>total claim amount</th>\n",
       "    </tr>\n",
       "  </thead>\n",
       "  <tbody>\n",
       "    <tr>\n",
       "      <th>0</th>\n",
       "      <td>Washington</td>\n",
       "      <td>NaN</td>\n",
       "      <td>Master</td>\n",
       "      <td>NaN</td>\n",
       "      <td>0.0</td>\n",
       "      <td>1000.0</td>\n",
       "      <td>0.0</td>\n",
       "      <td>Personal Auto</td>\n",
       "      <td>Four-Door Car</td>\n",
       "      <td>2.704934</td>\n",
       "    </tr>\n",
       "    <tr>\n",
       "      <th>1</th>\n",
       "      <td>Arizona</td>\n",
       "      <td>F</td>\n",
       "      <td>Bachelor</td>\n",
       "      <td>6.979536e+05</td>\n",
       "      <td>0.0</td>\n",
       "      <td>94.0</td>\n",
       "      <td>0.0</td>\n",
       "      <td>Personal Auto</td>\n",
       "      <td>Four-Door Car</td>\n",
       "      <td>1131.464935</td>\n",
       "    </tr>\n",
       "    <tr>\n",
       "      <th>2</th>\n",
       "      <td>Nevada</td>\n",
       "      <td>F</td>\n",
       "      <td>Bachelor</td>\n",
       "      <td>1.288743e+06</td>\n",
       "      <td>48767.0</td>\n",
       "      <td>108.0</td>\n",
       "      <td>0.0</td>\n",
       "      <td>Personal Auto</td>\n",
       "      <td>Two-Door Car</td>\n",
       "      <td>566.472247</td>\n",
       "    </tr>\n",
       "    <tr>\n",
       "      <th>3</th>\n",
       "      <td>California</td>\n",
       "      <td>M</td>\n",
       "      <td>Bachelor</td>\n",
       "      <td>7.645862e+05</td>\n",
       "      <td>0.0</td>\n",
       "      <td>106.0</td>\n",
       "      <td>0.0</td>\n",
       "      <td>Corporate Auto</td>\n",
       "      <td>SUV</td>\n",
       "      <td>529.881344</td>\n",
       "    </tr>\n",
       "    <tr>\n",
       "      <th>4</th>\n",
       "      <td>Washington</td>\n",
       "      <td>M</td>\n",
       "      <td>High School or Below</td>\n",
       "      <td>5.363077e+05</td>\n",
       "      <td>36357.0</td>\n",
       "      <td>68.0</td>\n",
       "      <td>0.0</td>\n",
       "      <td>Personal Auto</td>\n",
       "      <td>Four-Door Car</td>\n",
       "      <td>17.269323</td>\n",
       "    </tr>\n",
       "    <tr>\n",
       "      <th>...</th>\n",
       "      <td>...</td>\n",
       "      <td>...</td>\n",
       "      <td>...</td>\n",
       "      <td>...</td>\n",
       "      <td>...</td>\n",
       "      <td>...</td>\n",
       "      <td>...</td>\n",
       "      <td>...</td>\n",
       "      <td>...</td>\n",
       "      <td>...</td>\n",
       "    </tr>\n",
       "    <tr>\n",
       "      <th>12069</th>\n",
       "      <td>California</td>\n",
       "      <td>M</td>\n",
       "      <td>Bachelor</td>\n",
       "      <td>2.340599e+04</td>\n",
       "      <td>71941.0</td>\n",
       "      <td>73.0</td>\n",
       "      <td>0.0</td>\n",
       "      <td>Personal Auto</td>\n",
       "      <td>Four-Door Car</td>\n",
       "      <td>198.234764</td>\n",
       "    </tr>\n",
       "    <tr>\n",
       "      <th>12070</th>\n",
       "      <td>California</td>\n",
       "      <td>F</td>\n",
       "      <td>College</td>\n",
       "      <td>3.096511e+03</td>\n",
       "      <td>21604.0</td>\n",
       "      <td>79.0</td>\n",
       "      <td>0.0</td>\n",
       "      <td>Corporate Auto</td>\n",
       "      <td>Four-Door Car</td>\n",
       "      <td>379.200000</td>\n",
       "    </tr>\n",
       "    <tr>\n",
       "      <th>12071</th>\n",
       "      <td>California</td>\n",
       "      <td>M</td>\n",
       "      <td>Bachelor</td>\n",
       "      <td>8.163890e+03</td>\n",
       "      <td>0.0</td>\n",
       "      <td>85.0</td>\n",
       "      <td>3.0</td>\n",
       "      <td>Corporate Auto</td>\n",
       "      <td>Four-Door Car</td>\n",
       "      <td>790.784983</td>\n",
       "    </tr>\n",
       "    <tr>\n",
       "      <th>12072</th>\n",
       "      <td>California</td>\n",
       "      <td>M</td>\n",
       "      <td>College</td>\n",
       "      <td>7.524442e+03</td>\n",
       "      <td>21941.0</td>\n",
       "      <td>96.0</td>\n",
       "      <td>0.0</td>\n",
       "      <td>Personal Auto</td>\n",
       "      <td>Four-Door Car</td>\n",
       "      <td>691.200000</td>\n",
       "    </tr>\n",
       "    <tr>\n",
       "      <th>12073</th>\n",
       "      <td>California</td>\n",
       "      <td>M</td>\n",
       "      <td>College</td>\n",
       "      <td>2.611837e+03</td>\n",
       "      <td>0.0</td>\n",
       "      <td>77.0</td>\n",
       "      <td>0.0</td>\n",
       "      <td>Corporate Auto</td>\n",
       "      <td>Two-Door Car</td>\n",
       "      <td>369.600000</td>\n",
       "    </tr>\n",
       "  </tbody>\n",
       "</table>\n",
       "<p>8882 rows × 10 columns</p>\n",
       "</div>"
      ],
      "text/plain": [
       "            state gender             education  customer lifetime value  \\\n",
       "0      Washington    NaN                Master                      NaN   \n",
       "1         Arizona      F              Bachelor             6.979536e+05   \n",
       "2          Nevada      F              Bachelor             1.288743e+06   \n",
       "3      California      M              Bachelor             7.645862e+05   \n",
       "4      Washington      M  High School or Below             5.363077e+05   \n",
       "...           ...    ...                   ...                      ...   \n",
       "12069  California      M              Bachelor             2.340599e+04   \n",
       "12070  California      F               College             3.096511e+03   \n",
       "12071  California      M              Bachelor             8.163890e+03   \n",
       "12072  California      M               College             7.524442e+03   \n",
       "12073  California      M               College             2.611837e+03   \n",
       "\n",
       "        income  monthly premium auto  number of open complaints  \\\n",
       "0          0.0                1000.0                        0.0   \n",
       "1          0.0                  94.0                        0.0   \n",
       "2      48767.0                 108.0                        0.0   \n",
       "3          0.0                 106.0                        0.0   \n",
       "4      36357.0                  68.0                        0.0   \n",
       "...        ...                   ...                        ...   \n",
       "12069  71941.0                  73.0                        0.0   \n",
       "12070  21604.0                  79.0                        0.0   \n",
       "12071      0.0                  85.0                        3.0   \n",
       "12072  21941.0                  96.0                        0.0   \n",
       "12073      0.0                  77.0                        0.0   \n",
       "\n",
       "          policy type  vehicle class  total claim amount  \n",
       "0       Personal Auto  Four-Door Car            2.704934  \n",
       "1       Personal Auto  Four-Door Car         1131.464935  \n",
       "2       Personal Auto   Two-Door Car          566.472247  \n",
       "3      Corporate Auto            SUV          529.881344  \n",
       "4       Personal Auto  Four-Door Car           17.269323  \n",
       "...               ...            ...                 ...  \n",
       "12069   Personal Auto  Four-Door Car          198.234764  \n",
       "12070  Corporate Auto  Four-Door Car          379.200000  \n",
       "12071  Corporate Auto  Four-Door Car          790.784983  \n",
       "12072   Personal Auto  Four-Door Car          691.200000  \n",
       "12073  Corporate Auto   Two-Door Car          369.600000  \n",
       "\n",
       "[8882 rows x 10 columns]"
      ]
     },
     "execution_count": 34,
     "metadata": {},
     "output_type": "execute_result"
    }
   ],
   "source": [
    "ca_df"
   ]
  },
  {
   "cell_type": "code",
   "execution_count": 36,
   "id": "74e93f22",
   "metadata": {},
   "outputs": [],
   "source": [
    "ca_df = ca_df.dropna(how=\"all\")"
   ]
  },
  {
   "cell_type": "code",
   "execution_count": 37,
   "id": "c3fea49e",
   "metadata": {},
   "outputs": [
    {
     "data": {
      "text/html": [
       "<div>\n",
       "<style scoped>\n",
       "    .dataframe tbody tr th:only-of-type {\n",
       "        vertical-align: middle;\n",
       "    }\n",
       "\n",
       "    .dataframe tbody tr th {\n",
       "        vertical-align: top;\n",
       "    }\n",
       "\n",
       "    .dataframe thead th {\n",
       "        text-align: right;\n",
       "    }\n",
       "</style>\n",
       "<table border=\"1\" class=\"dataframe\">\n",
       "  <thead>\n",
       "    <tr style=\"text-align: right;\">\n",
       "      <th></th>\n",
       "      <th>state</th>\n",
       "      <th>gender</th>\n",
       "      <th>education</th>\n",
       "      <th>customer lifetime value</th>\n",
       "      <th>income</th>\n",
       "      <th>monthly premium auto</th>\n",
       "      <th>number of open complaints</th>\n",
       "      <th>policy type</th>\n",
       "      <th>vehicle class</th>\n",
       "      <th>total claim amount</th>\n",
       "    </tr>\n",
       "  </thead>\n",
       "  <tbody>\n",
       "    <tr>\n",
       "      <th>0</th>\n",
       "      <td>Washington</td>\n",
       "      <td>NaN</td>\n",
       "      <td>Master</td>\n",
       "      <td>NaN</td>\n",
       "      <td>0.0</td>\n",
       "      <td>1000.0</td>\n",
       "      <td>0.0</td>\n",
       "      <td>Personal Auto</td>\n",
       "      <td>Four-Door Car</td>\n",
       "      <td>2.704934</td>\n",
       "    </tr>\n",
       "    <tr>\n",
       "      <th>1</th>\n",
       "      <td>Arizona</td>\n",
       "      <td>F</td>\n",
       "      <td>Bachelor</td>\n",
       "      <td>6.979536e+05</td>\n",
       "      <td>0.0</td>\n",
       "      <td>94.0</td>\n",
       "      <td>0.0</td>\n",
       "      <td>Personal Auto</td>\n",
       "      <td>Four-Door Car</td>\n",
       "      <td>1131.464935</td>\n",
       "    </tr>\n",
       "    <tr>\n",
       "      <th>2</th>\n",
       "      <td>Nevada</td>\n",
       "      <td>F</td>\n",
       "      <td>Bachelor</td>\n",
       "      <td>1.288743e+06</td>\n",
       "      <td>48767.0</td>\n",
       "      <td>108.0</td>\n",
       "      <td>0.0</td>\n",
       "      <td>Personal Auto</td>\n",
       "      <td>Two-Door Car</td>\n",
       "      <td>566.472247</td>\n",
       "    </tr>\n",
       "    <tr>\n",
       "      <th>3</th>\n",
       "      <td>California</td>\n",
       "      <td>M</td>\n",
       "      <td>Bachelor</td>\n",
       "      <td>7.645862e+05</td>\n",
       "      <td>0.0</td>\n",
       "      <td>106.0</td>\n",
       "      <td>0.0</td>\n",
       "      <td>Corporate Auto</td>\n",
       "      <td>SUV</td>\n",
       "      <td>529.881344</td>\n",
       "    </tr>\n",
       "    <tr>\n",
       "      <th>4</th>\n",
       "      <td>Washington</td>\n",
       "      <td>M</td>\n",
       "      <td>High School or Below</td>\n",
       "      <td>5.363077e+05</td>\n",
       "      <td>36357.0</td>\n",
       "      <td>68.0</td>\n",
       "      <td>0.0</td>\n",
       "      <td>Personal Auto</td>\n",
       "      <td>Four-Door Car</td>\n",
       "      <td>17.269323</td>\n",
       "    </tr>\n",
       "    <tr>\n",
       "      <th>...</th>\n",
       "      <td>...</td>\n",
       "      <td>...</td>\n",
       "      <td>...</td>\n",
       "      <td>...</td>\n",
       "      <td>...</td>\n",
       "      <td>...</td>\n",
       "      <td>...</td>\n",
       "      <td>...</td>\n",
       "      <td>...</td>\n",
       "      <td>...</td>\n",
       "    </tr>\n",
       "    <tr>\n",
       "      <th>12069</th>\n",
       "      <td>California</td>\n",
       "      <td>M</td>\n",
       "      <td>Bachelor</td>\n",
       "      <td>2.340599e+04</td>\n",
       "      <td>71941.0</td>\n",
       "      <td>73.0</td>\n",
       "      <td>0.0</td>\n",
       "      <td>Personal Auto</td>\n",
       "      <td>Four-Door Car</td>\n",
       "      <td>198.234764</td>\n",
       "    </tr>\n",
       "    <tr>\n",
       "      <th>12070</th>\n",
       "      <td>California</td>\n",
       "      <td>F</td>\n",
       "      <td>College</td>\n",
       "      <td>3.096511e+03</td>\n",
       "      <td>21604.0</td>\n",
       "      <td>79.0</td>\n",
       "      <td>0.0</td>\n",
       "      <td>Corporate Auto</td>\n",
       "      <td>Four-Door Car</td>\n",
       "      <td>379.200000</td>\n",
       "    </tr>\n",
       "    <tr>\n",
       "      <th>12071</th>\n",
       "      <td>California</td>\n",
       "      <td>M</td>\n",
       "      <td>Bachelor</td>\n",
       "      <td>8.163890e+03</td>\n",
       "      <td>0.0</td>\n",
       "      <td>85.0</td>\n",
       "      <td>3.0</td>\n",
       "      <td>Corporate Auto</td>\n",
       "      <td>Four-Door Car</td>\n",
       "      <td>790.784983</td>\n",
       "    </tr>\n",
       "    <tr>\n",
       "      <th>12072</th>\n",
       "      <td>California</td>\n",
       "      <td>M</td>\n",
       "      <td>College</td>\n",
       "      <td>7.524442e+03</td>\n",
       "      <td>21941.0</td>\n",
       "      <td>96.0</td>\n",
       "      <td>0.0</td>\n",
       "      <td>Personal Auto</td>\n",
       "      <td>Four-Door Car</td>\n",
       "      <td>691.200000</td>\n",
       "    </tr>\n",
       "    <tr>\n",
       "      <th>12073</th>\n",
       "      <td>California</td>\n",
       "      <td>M</td>\n",
       "      <td>College</td>\n",
       "      <td>2.611837e+03</td>\n",
       "      <td>0.0</td>\n",
       "      <td>77.0</td>\n",
       "      <td>0.0</td>\n",
       "      <td>Corporate Auto</td>\n",
       "      <td>Two-Door Car</td>\n",
       "      <td>369.600000</td>\n",
       "    </tr>\n",
       "  </tbody>\n",
       "</table>\n",
       "<p>8881 rows × 10 columns</p>\n",
       "</div>"
      ],
      "text/plain": [
       "            state gender             education  customer lifetime value  \\\n",
       "0      Washington    NaN                Master                      NaN   \n",
       "1         Arizona      F              Bachelor             6.979536e+05   \n",
       "2          Nevada      F              Bachelor             1.288743e+06   \n",
       "3      California      M              Bachelor             7.645862e+05   \n",
       "4      Washington      M  High School or Below             5.363077e+05   \n",
       "...           ...    ...                   ...                      ...   \n",
       "12069  California      M              Bachelor             2.340599e+04   \n",
       "12070  California      F               College             3.096511e+03   \n",
       "12071  California      M              Bachelor             8.163890e+03   \n",
       "12072  California      M               College             7.524442e+03   \n",
       "12073  California      M               College             2.611837e+03   \n",
       "\n",
       "        income  monthly premium auto  number of open complaints  \\\n",
       "0          0.0                1000.0                        0.0   \n",
       "1          0.0                  94.0                        0.0   \n",
       "2      48767.0                 108.0                        0.0   \n",
       "3          0.0                 106.0                        0.0   \n",
       "4      36357.0                  68.0                        0.0   \n",
       "...        ...                   ...                        ...   \n",
       "12069  71941.0                  73.0                        0.0   \n",
       "12070  21604.0                  79.0                        0.0   \n",
       "12071      0.0                  85.0                        3.0   \n",
       "12072  21941.0                  96.0                        0.0   \n",
       "12073      0.0                  77.0                        0.0   \n",
       "\n",
       "          policy type  vehicle class  total claim amount  \n",
       "0       Personal Auto  Four-Door Car            2.704934  \n",
       "1       Personal Auto  Four-Door Car         1131.464935  \n",
       "2       Personal Auto   Two-Door Car          566.472247  \n",
       "3      Corporate Auto            SUV          529.881344  \n",
       "4       Personal Auto  Four-Door Car           17.269323  \n",
       "...               ...            ...                 ...  \n",
       "12069   Personal Auto  Four-Door Car          198.234764  \n",
       "12070  Corporate Auto  Four-Door Car          379.200000  \n",
       "12071  Corporate Auto  Four-Door Car          790.784983  \n",
       "12072   Personal Auto  Four-Door Car          691.200000  \n",
       "12073  Corporate Auto   Two-Door Car          369.600000  \n",
       "\n",
       "[8881 rows x 10 columns]"
      ]
     },
     "execution_count": 37,
     "metadata": {},
     "output_type": "execute_result"
    }
   ],
   "source": [
    "ca_df"
   ]
  },
  {
   "cell_type": "code",
   "execution_count": 38,
   "id": "8446cbf3",
   "metadata": {},
   "outputs": [
    {
     "data": {
      "text/plain": [
       "state                          0\n",
       "gender                       122\n",
       "education                      0\n",
       "customer lifetime value        7\n",
       "income                         0\n",
       "monthly premium auto           0\n",
       "number of open complaints      0\n",
       "policy type                    0\n",
       "vehicle class                  0\n",
       "total claim amount             0\n",
       "dtype: int64"
      ]
     },
     "execution_count": 38,
     "metadata": {},
     "output_type": "execute_result"
    }
   ],
   "source": [
    "ca_df.isna().sum()"
   ]
  },
  {
   "cell_type": "code",
   "execution_count": 39,
   "id": "d662d72e-4c15-4a52-a5cc-011a0e5f29ee",
   "metadata": {},
   "outputs": [
    {
     "data": {
      "text/plain": [
       "array(['Washington', 'Arizona', 'Nevada', 'California', 'Oregon', 'Cali',\n",
       "       'AZ', 'WA'], dtype=object)"
      ]
     },
     "execution_count": 39,
     "metadata": {},
     "output_type": "execute_result"
    }
   ],
   "source": [
    "ca_df[\"state\"].unique()"
   ]
  },
  {
   "cell_type": "code",
   "execution_count": 40,
   "id": "a28be1bf-bcdf-4085-89d3-df620affde24",
   "metadata": {},
   "outputs": [
    {
     "data": {
      "text/plain": [
       "array([nan, 'F', 'M', 'Femal', 'Male', 'female'], dtype=object)"
      ]
     },
     "execution_count": 40,
     "metadata": {},
     "output_type": "execute_result"
    }
   ],
   "source": [
    "ca_df[\"gender\"].unique()"
   ]
  },
  {
   "cell_type": "code",
   "execution_count": 42,
   "id": "3f2fc344-73cf-4a8b-b838-ce0711c64b48",
   "metadata": {},
   "outputs": [
    {
     "name": "stderr",
     "output_type": "stream",
     "text": [
      "/var/folders/nx/7crq4wx155z00jtfy6fbs9bw0000gn/T/ipykernel_1985/2997091493.py:1: SettingWithCopyWarning: \n",
      "A value is trying to be set on a copy of a slice from a DataFrame.\n",
      "Try using .loc[row_indexer,col_indexer] = value instead\n",
      "\n",
      "See the caveats in the documentation: https://pandas.pydata.org/pandas-docs/stable/user_guide/indexing.html#returning-a-view-versus-a-copy\n",
      "  ca_df[\"gender\"] = ca_df[\"gender\"].astype(str)\n"
     ]
    }
   ],
   "source": [
    "ca_df[\"gender\"] = ca_df[\"gender\"].astype(str)"
   ]
  },
  {
   "cell_type": "code",
   "execution_count": 43,
   "id": "dd64e1e5-5218-437a-a9f1-022d10bc0242",
   "metadata": {},
   "outputs": [
    {
     "name": "stderr",
     "output_type": "stream",
     "text": [
      "/var/folders/nx/7crq4wx155z00jtfy6fbs9bw0000gn/T/ipykernel_1985/1093058908.py:1: SettingWithCopyWarning: \n",
      "A value is trying to be set on a copy of a slice from a DataFrame.\n",
      "Try using .loc[row_indexer,col_indexer] = value instead\n",
      "\n",
      "See the caveats in the documentation: https://pandas.pydata.org/pandas-docs/stable/user_guide/indexing.html#returning-a-view-versus-a-copy\n",
      "  ca_df[\"gender\"] = list(map(lambda x: \"F\" if \"emal\" in x else x, ca_df[\"gender\"]))\n"
     ]
    }
   ],
   "source": [
    "ca_df[\"gender\"] = list(map(lambda x: \"F\" if \"emal\" in x else x, ca_df[\"gender\"]))"
   ]
  },
  {
   "cell_type": "code",
   "execution_count": 44,
   "id": "91716b96-be61-4fc3-b378-3e2f98d0418d",
   "metadata": {},
   "outputs": [
    {
     "name": "stderr",
     "output_type": "stream",
     "text": [
      "/var/folders/nx/7crq4wx155z00jtfy6fbs9bw0000gn/T/ipykernel_1985/3456838698.py:1: SettingWithCopyWarning: \n",
      "A value is trying to be set on a copy of a slice from a DataFrame.\n",
      "Try using .loc[row_indexer,col_indexer] = value instead\n",
      "\n",
      "See the caveats in the documentation: https://pandas.pydata.org/pandas-docs/stable/user_guide/indexing.html#returning-a-view-versus-a-copy\n",
      "  ca_df[\"gender\"] = list(map(lambda x: \"M\" if \"Male\" in x else x, ca_df[\"gender\"]))\n"
     ]
    }
   ],
   "source": [
    "ca_df[\"gender\"] = list(map(lambda x: \"M\" if \"Male\" in x else x, ca_df[\"gender\"]))"
   ]
  },
  {
   "cell_type": "code",
   "execution_count": 45,
   "id": "039fd0ba-49f3-4056-9413-60a5de558210",
   "metadata": {},
   "outputs": [
    {
     "name": "stderr",
     "output_type": "stream",
     "text": [
      "/var/folders/nx/7crq4wx155z00jtfy6fbs9bw0000gn/T/ipykernel_1985/3894935776.py:1: SettingWithCopyWarning: \n",
      "A value is trying to be set on a copy of a slice from a DataFrame.\n",
      "Try using .loc[row_indexer,col_indexer] = value instead\n",
      "\n",
      "See the caveats in the documentation: https://pandas.pydata.org/pandas-docs/stable/user_guide/indexing.html#returning-a-view-versus-a-copy\n",
      "  ca_df[\"gender\"] = list(map(lambda x: \"other\" if \"nan\" in x else x, ca_df[\"gender\"]))\n"
     ]
    }
   ],
   "source": [
    "ca_df[\"gender\"] = list(map(lambda x: \"other\" if \"nan\" in x else x, ca_df[\"gender\"]))"
   ]
  },
  {
   "cell_type": "code",
   "execution_count": 49,
   "id": "fb65c491-9537-4197-862c-bcbfa7a811e0",
   "metadata": {},
   "outputs": [
    {
     "data": {
      "text/plain": [
       "array(['other', 'F', 'M'], dtype=object)"
      ]
     },
     "execution_count": 49,
     "metadata": {},
     "output_type": "execute_result"
    }
   ],
   "source": [
    "ca_df[\"gender\"].unique()"
   ]
  },
  {
   "cell_type": "code",
   "execution_count": 50,
   "id": "4da3d872",
   "metadata": {},
   "outputs": [
    {
     "data": {
      "text/plain": [
       "state                        0\n",
       "gender                       0\n",
       "education                    0\n",
       "customer lifetime value      7\n",
       "income                       0\n",
       "monthly premium auto         0\n",
       "number of open complaints    0\n",
       "policy type                  0\n",
       "vehicle class                0\n",
       "total claim amount           0\n",
       "dtype: int64"
      ]
     },
     "execution_count": 50,
     "metadata": {},
     "output_type": "execute_result"
    }
   ],
   "source": [
    "ca_df.isna().sum()"
   ]
  },
  {
   "cell_type": "code",
   "execution_count": 48,
   "id": "33f7c744-8089-4a54-ad20-6c28719bc595",
   "metadata": {},
   "outputs": [
    {
     "data": {
      "text/html": [
       "<div>\n",
       "<style scoped>\n",
       "    .dataframe tbody tr th:only-of-type {\n",
       "        vertical-align: middle;\n",
       "    }\n",
       "\n",
       "    .dataframe tbody tr th {\n",
       "        vertical-align: top;\n",
       "    }\n",
       "\n",
       "    .dataframe thead th {\n",
       "        text-align: right;\n",
       "    }\n",
       "</style>\n",
       "<table border=\"1\" class=\"dataframe\">\n",
       "  <thead>\n",
       "    <tr style=\"text-align: right;\">\n",
       "      <th></th>\n",
       "      <th>state</th>\n",
       "      <th>gender</th>\n",
       "      <th>education</th>\n",
       "      <th>customer lifetime value</th>\n",
       "      <th>income</th>\n",
       "      <th>monthly premium auto</th>\n",
       "      <th>number of open complaints</th>\n",
       "      <th>policy type</th>\n",
       "      <th>vehicle class</th>\n",
       "      <th>total claim amount</th>\n",
       "    </tr>\n",
       "  </thead>\n",
       "  <tbody>\n",
       "    <tr>\n",
       "      <th>0</th>\n",
       "      <td>Washington</td>\n",
       "      <td>other</td>\n",
       "      <td>Master</td>\n",
       "      <td>NaN</td>\n",
       "      <td>0.0</td>\n",
       "      <td>1000.0</td>\n",
       "      <td>0.0</td>\n",
       "      <td>Personal Auto</td>\n",
       "      <td>Four-Door Car</td>\n",
       "      <td>2.704934</td>\n",
       "    </tr>\n",
       "    <tr>\n",
       "      <th>78</th>\n",
       "      <td>Washington</td>\n",
       "      <td>F</td>\n",
       "      <td>Master</td>\n",
       "      <td>NaN</td>\n",
       "      <td>41275.0</td>\n",
       "      <td>96.0</td>\n",
       "      <td>0.0</td>\n",
       "      <td>Personal Auto</td>\n",
       "      <td>Four-Door Car</td>\n",
       "      <td>41.122303</td>\n",
       "    </tr>\n",
       "    <tr>\n",
       "      <th>988</th>\n",
       "      <td>Washington</td>\n",
       "      <td>M</td>\n",
       "      <td>High School or Below</td>\n",
       "      <td>NaN</td>\n",
       "      <td>55561.0</td>\n",
       "      <td>63.0</td>\n",
       "      <td>0.0</td>\n",
       "      <td>Personal Auto</td>\n",
       "      <td>Four-Door Car</td>\n",
       "      <td>227.872071</td>\n",
       "    </tr>\n",
       "    <tr>\n",
       "      <th>4333</th>\n",
       "      <td>Washington</td>\n",
       "      <td>M</td>\n",
       "      <td>High School or Below</td>\n",
       "      <td>NaN</td>\n",
       "      <td>51878.0</td>\n",
       "      <td>66.0</td>\n",
       "      <td>1.0</td>\n",
       "      <td>Personal Auto</td>\n",
       "      <td>Four-Door Car</td>\n",
       "      <td>316.800000</td>\n",
       "    </tr>\n",
       "    <tr>\n",
       "      <th>4380</th>\n",
       "      <td>Washington</td>\n",
       "      <td>other</td>\n",
       "      <td>High School or Below</td>\n",
       "      <td>NaN</td>\n",
       "      <td>36765.0</td>\n",
       "      <td>66.0</td>\n",
       "      <td>1.0</td>\n",
       "      <td>Personal Auto</td>\n",
       "      <td>Four-Door Car</td>\n",
       "      <td>320.849072</td>\n",
       "    </tr>\n",
       "    <tr>\n",
       "      <th>4588</th>\n",
       "      <td>Washington</td>\n",
       "      <td>M</td>\n",
       "      <td>Master</td>\n",
       "      <td>NaN</td>\n",
       "      <td>0.0</td>\n",
       "      <td>70.0</td>\n",
       "      <td>0.0</td>\n",
       "      <td>Personal Auto</td>\n",
       "      <td>Four-Door Car</td>\n",
       "      <td>336.000000</td>\n",
       "    </tr>\n",
       "    <tr>\n",
       "      <th>4869</th>\n",
       "      <td>Washington</td>\n",
       "      <td>F</td>\n",
       "      <td>Bachelors</td>\n",
       "      <td>NaN</td>\n",
       "      <td>25859.0</td>\n",
       "      <td>74.0</td>\n",
       "      <td>0.0</td>\n",
       "      <td>Special Auto</td>\n",
       "      <td>Four-Door Car</td>\n",
       "      <td>355.200000</td>\n",
       "    </tr>\n",
       "  </tbody>\n",
       "</table>\n",
       "</div>"
      ],
      "text/plain": [
       "           state gender             education  customer lifetime value  \\\n",
       "0     Washington  other                Master                      NaN   \n",
       "78    Washington      F                Master                      NaN   \n",
       "988   Washington      M  High School or Below                      NaN   \n",
       "4333  Washington      M  High School or Below                      NaN   \n",
       "4380  Washington  other  High School or Below                      NaN   \n",
       "4588  Washington      M                Master                      NaN   \n",
       "4869  Washington      F             Bachelors                      NaN   \n",
       "\n",
       "       income  monthly premium auto  number of open complaints    policy type  \\\n",
       "0         0.0                1000.0                        0.0  Personal Auto   \n",
       "78    41275.0                  96.0                        0.0  Personal Auto   \n",
       "988   55561.0                  63.0                        0.0  Personal Auto   \n",
       "4333  51878.0                  66.0                        1.0  Personal Auto   \n",
       "4380  36765.0                  66.0                        1.0  Personal Auto   \n",
       "4588      0.0                  70.0                        0.0  Personal Auto   \n",
       "4869  25859.0                  74.0                        0.0   Special Auto   \n",
       "\n",
       "      vehicle class  total claim amount  \n",
       "0     Four-Door Car            2.704934  \n",
       "78    Four-Door Car           41.122303  \n",
       "988   Four-Door Car          227.872071  \n",
       "4333  Four-Door Car          316.800000  \n",
       "4380  Four-Door Car          320.849072  \n",
       "4588  Four-Door Car          336.000000  \n",
       "4869  Four-Door Car          355.200000  "
      ]
     },
     "execution_count": 48,
     "metadata": {},
     "output_type": "execute_result"
    }
   ],
   "source": [
    "ca_df[ca_df[\"customer lifetime value\"].isna() == True]"
   ]
  },
  {
   "cell_type": "code",
   "execution_count": 55,
   "id": "d2160a04",
   "metadata": {},
   "outputs": [
    {
     "data": {
      "text/plain": [
       "185975.04580793108"
      ]
     },
     "execution_count": 55,
     "metadata": {},
     "output_type": "execute_result"
    }
   ],
   "source": [
    "ca_df[\"customer lifetime value\"].mean()"
   ]
  },
  {
   "cell_type": "code",
   "execution_count": 60,
   "id": "f11d5203",
   "metadata": {},
   "outputs": [
    {
     "data": {
      "text/plain": [
       "5816655.35"
      ]
     },
     "execution_count": 60,
     "metadata": {},
     "output_type": "execute_result"
    }
   ],
   "source": [
    "ca_df[\"customer lifetime value\"].max()"
   ]
  },
  {
   "cell_type": "code",
   "execution_count": 62,
   "id": "5343d55a",
   "metadata": {},
   "outputs": [
    {
     "data": {
      "text/plain": [
       "1898.007675"
      ]
     },
     "execution_count": 62,
     "metadata": {},
     "output_type": "execute_result"
    }
   ],
   "source": [
    "ca_df[\"customer lifetime value\"].min()"
   ]
  },
  {
   "cell_type": "code",
   "execution_count": null,
   "id": "980d098f",
   "metadata": {},
   "outputs": [],
   "source": [
    "plt."
   ]
  },
  {
   "cell_type": "code",
   "execution_count": 54,
   "id": "6d2cb5d0",
   "metadata": {},
   "outputs": [
    {
     "data": {
      "text/plain": [
       "7772.52637"
      ]
     },
     "execution_count": 54,
     "metadata": {},
     "output_type": "execute_result"
    }
   ],
   "source": [
    "ca_df[\"customer lifetime value\"].median()"
   ]
  },
  {
   "cell_type": "code",
   "execution_count": 39,
   "id": "03ab02f2-d29c-4e6d-8884-8416d2552c12",
   "metadata": {},
   "outputs": [
    {
     "data": {
      "text/plain": [
       "8028.8"
      ]
     },
     "execution_count": 39,
     "metadata": {},
     "output_type": "execute_result"
    }
   ],
   "source": [
    "customer_lifetime_value_mean"
   ]
  },
  {
   "cell_type": "code",
   "execution_count": 40,
   "id": "0be51642-d22a-4ec8-ac8a-fb9e72c20e4a",
   "metadata": {},
   "outputs": [],
   "source": [
    "ca_df[\"customer lifetime value\"] = ca_df[\"customer lifetime value\"].fillna(customer_lifetime_value_mean)"
   ]
  },
  {
   "cell_type": "code",
   "execution_count": 41,
   "id": "91f7fb88-b46f-42d2-9464-5d6f7871fc2c",
   "metadata": {},
   "outputs": [
    {
     "data": {
      "text/plain": [
       "array([8028.8     , 3479.137523, 2502.637401, ..., 8163.890428,\n",
       "       7524.442436, 2611.836866])"
      ]
     },
     "execution_count": 41,
     "metadata": {},
     "output_type": "execute_result"
    }
   ],
   "source": [
    "ca_df[\"customer lifetime value\"].unique()"
   ]
  },
  {
   "cell_type": "code",
   "execution_count": 42,
   "id": "484d34e2-e0e7-4a22-8a6b-314a91b882a7",
   "metadata": {},
   "outputs": [],
   "source": [
    "income_mean = round(np.mean(ca_df[\"income\"]), 2)"
   ]
  },
  {
   "cell_type": "code",
   "execution_count": 43,
   "id": "6760c0e9-9dac-47f5-aed5-304dee92fe71",
   "metadata": {},
   "outputs": [
    {
     "data": {
      "text/plain": [
       "37828.82"
      ]
     },
     "execution_count": 43,
     "metadata": {},
     "output_type": "execute_result"
    }
   ],
   "source": [
    "income_mean"
   ]
  },
  {
   "cell_type": "code",
   "execution_count": 44,
   "id": "5f87e921-dbd4-4f92-81e7-37fd84a5b49c",
   "metadata": {},
   "outputs": [],
   "source": [
    "ca_df[\"income\"] = ca_df[\"income\"].fillna(income_mean)"
   ]
  },
  {
   "cell_type": "code",
   "execution_count": 45,
   "id": "5271a3ca-b817-4281-8c13-ce38809e9bad",
   "metadata": {},
   "outputs": [
    {
     "data": {
      "text/plain": [
       "array([    0., 48767., 36357., ..., 66367., 71941., 21941.])"
      ]
     },
     "execution_count": 45,
     "metadata": {},
     "output_type": "execute_result"
    }
   ],
   "source": [
    "ca_df[\"income\"].unique()"
   ]
  },
  {
   "cell_type": "code",
   "execution_count": 46,
   "id": "b8b3ec44-8e18-4783-ab06-b78daa04b36b",
   "metadata": {},
   "outputs": [],
   "source": [
    "monthly_premium_auto_mean = round(np.mean(ca_df[\"monthly premium auto\"]), 2)"
   ]
  },
  {
   "cell_type": "code",
   "execution_count": 47,
   "id": "bdcd550a-3f8e-4b86-a357-28741a4b2b33",
   "metadata": {},
   "outputs": [
    {
     "data": {
      "text/plain": [
       "110.39"
      ]
     },
     "execution_count": 47,
     "metadata": {},
     "output_type": "execute_result"
    }
   ],
   "source": [
    "monthly_premium_auto_mean"
   ]
  },
  {
   "cell_type": "code",
   "execution_count": 48,
   "id": "c8c6d045-55d2-4b07-a086-e3623a95a147",
   "metadata": {},
   "outputs": [],
   "source": [
    "ca_df[\"monthly premium auto\"] = ca_df[\"monthly premium auto\"].fillna(monthly_premium_auto_mean)"
   ]
  },
  {
   "cell_type": "code",
   "execution_count": 49,
   "id": "13f5df3a-2df4-4ec8-a8f0-24bd5b313a02",
   "metadata": {},
   "outputs": [
    {
     "data": {
      "text/plain": [
       "array([ 1000.  ,    94.  ,   108.  ,   106.  ,    68.  ,    69.  ,\n",
       "          67.  ,   101.  ,    71.  ,    93.  ,   110.  ,    70.  ,\n",
       "          64.  ,    72.  ,    74.  ,    79.  ,    73.  ,    61.  ,\n",
       "         111.  ,    80.  ,    63.  ,   237.  ,    65.  ,   130.  ,\n",
       "          62.  ,   117.  ,    91.  ,    90.  ,    66.  ,    99.  ,\n",
       "         103.  , 35354.  ,   172.  ,    92.  ,   104.  ,   113.  ,\n",
       "         124.  ,   105.  ,   100.  ,   112.  ,    97.  ,    95.  ,\n",
       "         102.  ,    96.  ,   186.  ,    77.  ,    76.  ,   119.  ,\n",
       "          87.  ,   109.  ,   107.  ,    88.  ,    85.  ,  6464.  ,\n",
       "         133.  ,    86.  ,    78.  ,    89.  ,   192.  ,   118.  ,\n",
       "         140.  ,   127.  ,   126.  ,    82.  ,   115.  ,   217.  ,\n",
       "         114.  ,   138.  ,    81.  ,   255.  ,   150.  ,   123.  ,\n",
       "         116.  ,   190.  ,    98.  ,   159.  ,    84.  ,    83.  ,\n",
       "         152.  ,   136.  ,   245.  ,   135.  ,  1005.  ,   225.  ,\n",
       "         132.  ,   153.  ,   121.  ,   139.  ,   154.  ,   161.  ,\n",
       "         156.  ,   171.  ,   244.  ,   183.  ,   176.  ,   230.  ,\n",
       "         129.  ,   177.  ,   181.  ,   196.  ,   131.  ,   276.  ,\n",
       "         253.  ,   137.  ,   180.  ,   203.  ,   147.  ,   165.  ,\n",
       "         198.  ,   125.  ,   193.  ,   128.  ,   271.  ,   142.  ,\n",
       "       10202.  ,   206.  ,   182.  ,   189.  ,   160.  ,   295.  ,\n",
       "         210.  ,   134.  , 35353.  ,   239.  ,   188.  ,   256.  ,\n",
       "         173.  ,   285.  ,   148.  ,   141.  ,   197.  ,   199.  ,\n",
       "         110.39,   214.  ,   175.  ,   167.  ,   194.  ,   164.  ,\n",
       "         222.  ,   215.  ,   283.  ,   169.  ,   248.  ,   223.  ,\n",
       "         151.  ,   213.  ,   145.  ,   185.  ,   287.  ,   297.  ,\n",
       "        5353.  ,   201.  ,   149.  ,   146.  ,  7575.  ,   235.  ,\n",
       "         268.  ,   211.  ,   187.  ,   168.  ,   122.  ,   143.  ,\n",
       "         155.  ,   166.  ,   212.  ,   249.  ,   240.  ,   191.  ,\n",
       "         195.  ,   216.  ,   144.  ,   179.  ,   232.  ,   158.  ,\n",
       "         207.  ,   184.  ,   238.  ,   229.  ,   220.  ,   178.  ,\n",
       "         204.  ,   281.  ,   170.  ,   234.  ,   218.  ,   275.  ,\n",
       "         209.  ,   261.  ,   157.  ,   205.  ,   228.  ,   242.  ,\n",
       "         284.  ,   231.  ,   208.  ,   296.  ,   202.  ,   162.  ,\n",
       "         274.  ,   219.  ,   247.  ,   290.  ,   226.  ,   163.  ,\n",
       "         298.  ,   266.  ,   254.  ,   252.  ,   174.  ,   286.  ])"
      ]
     },
     "execution_count": 49,
     "metadata": {},
     "output_type": "execute_result"
    }
   ],
   "source": [
    "ca_df[\"monthly premium auto\"].unique()"
   ]
  },
  {
   "cell_type": "code",
   "execution_count": 50,
   "id": "9424f200-4843-433c-b1a2-aee2e9d190ab",
   "metadata": {},
   "outputs": [],
   "source": [
    "number_of_open_complaints_mean = round(np.mean(ca_df[\"number of open complaints\"]), 2)"
   ]
  },
  {
   "cell_type": "code",
   "execution_count": 51,
   "id": "fd5ed3df-a380-4944-a185-5513959e3c39",
   "metadata": {},
   "outputs": [
    {
     "data": {
      "text/plain": [
       "0.38"
      ]
     },
     "execution_count": 51,
     "metadata": {},
     "output_type": "execute_result"
    }
   ],
   "source": [
    "number_of_open_complaints_mean"
   ]
  },
  {
   "cell_type": "code",
   "execution_count": 52,
   "id": "64ce38e6-897e-4246-a165-5400cd9b6eca",
   "metadata": {},
   "outputs": [],
   "source": [
    "ca_df[\"number of open complaints\"] = ca_df[\"number of open complaints\"].fillna(number_of_open_complaints_mean)"
   ]
  },
  {
   "cell_type": "code",
   "execution_count": 53,
   "id": "c2d515a6-53fd-402a-a8bb-4ca32b04f874",
   "metadata": {},
   "outputs": [
    {
     "data": {
      "text/plain": [
       "array([0.  , 2.  , 1.  , 3.  , 5.  , 4.  , 0.38])"
      ]
     },
     "execution_count": 53,
     "metadata": {},
     "output_type": "execute_result"
    }
   ],
   "source": [
    "ca_df[\"number of open complaints\"].unique()"
   ]
  },
  {
   "cell_type": "code",
   "execution_count": 54,
   "id": "47a38a64-4f24-4fc2-80a8-169d2215feb9",
   "metadata": {},
   "outputs": [],
   "source": [
    "total_claim_amount_mean = round(np.mean(ca_df[\"total claim amount\"]), 2)"
   ]
  },
  {
   "cell_type": "code",
   "execution_count": 55,
   "id": "7cc39a2c-2f94-4c4d-9e04-1e3f3773d7f6",
   "metadata": {},
   "outputs": [],
   "source": [
    "ca_df[\"total claim amount\"] = ca_df[\"total claim amount\"].fillna(total_claim_amount_mean)"
   ]
  },
  {
   "cell_type": "code",
   "execution_count": 56,
   "id": "14fc482c-7473-46cc-b5ee-ec549cc7875a",
   "metadata": {},
   "outputs": [
    {
     "data": {
      "text/plain": [
       "array([   2.704934, 1131.464935,  566.472247, ...,  541.282007,\n",
       "        198.234764,  790.784983])"
      ]
     },
     "execution_count": 56,
     "metadata": {},
     "output_type": "execute_result"
    }
   ],
   "source": [
    "ca_df[\"total claim amount\"].unique()"
   ]
  },
  {
   "cell_type": "code",
   "execution_count": 57,
   "id": "d86acfd0-f2d8-40a5-a216-2d3a339cb7cd",
   "metadata": {},
   "outputs": [
    {
     "data": {
      "text/plain": [
       "pandas.core.series.Series"
      ]
     },
     "execution_count": 57,
     "metadata": {},
     "output_type": "execute_result"
    }
   ],
   "source": [
    "type(ca_df[\"state\"])"
   ]
  },
  {
   "cell_type": "code",
   "execution_count": 58,
   "id": "03988c1e-07ff-4ba3-87bd-80aea7130558",
   "metadata": {},
   "outputs": [],
   "source": [
    "## ACTIVITY 2"
   ]
  },
  {
   "cell_type": "code",
   "execution_count": 59,
   "id": "8b801a8e-2501-48c5-9f5f-b6fb7299d9fe",
   "metadata": {},
   "outputs": [],
   "source": [
    "ca_df[\"state\"] = ca_df[\"state\"].astype(\"str\")"
   ]
  },
  {
   "cell_type": "code",
   "execution_count": 60,
   "id": "4ed4d610-2d32-49ef-a34c-2c7142f3702f",
   "metadata": {},
   "outputs": [],
   "source": [
    "ca_df['state'] = list(map(lambda x: \"Arizona\" if (\"AZ\" in x) else x, ca_df[\"state\"]))"
   ]
  },
  {
   "cell_type": "code",
   "execution_count": 61,
   "id": "e3cd4eba-3237-4e1f-bfa2-5bb9a4ca5ac8",
   "metadata": {},
   "outputs": [
    {
     "data": {
      "text/plain": [
       "array(['Washington', 'Arizona', 'Nevada', 'California', 'Oregon', 'Cali',\n",
       "       'WA', 'nan'], dtype=object)"
      ]
     },
     "execution_count": 61,
     "metadata": {},
     "output_type": "execute_result"
    }
   ],
   "source": [
    "ca_df[\"state\"].unique()"
   ]
  },
  {
   "cell_type": "code",
   "execution_count": 62,
   "id": "1342c17b-aa6d-44e2-9379-57571ed65702",
   "metadata": {},
   "outputs": [],
   "source": [
    "ca_df['state'] = list(map(lambda x: \"Washington\" if (\"WA\" in x) else x, ca_df[\"state\"]))"
   ]
  },
  {
   "cell_type": "code",
   "execution_count": 63,
   "id": "7f6cf2ae-2d35-49df-9e3c-33f93f656b00",
   "metadata": {},
   "outputs": [],
   "source": [
    "ca_df['state'] = list(map(lambda x: \"California\" if (\"Cali\" in x) else x, ca_df[\"state\"]))"
   ]
  },
  {
   "cell_type": "code",
   "execution_count": 64,
   "id": "40d7cc85-bfa9-4bab-aa6f-71dce89cb254",
   "metadata": {},
   "outputs": [
    {
     "data": {
      "text/plain": [
       "array(['Washington', 'Arizona', 'Nevada', 'California', 'Oregon', 'nan'],\n",
       "      dtype=object)"
      ]
     },
     "execution_count": 64,
     "metadata": {},
     "output_type": "execute_result"
    }
   ],
   "source": [
    "ca_df[\"state\"].unique()"
   ]
  },
  {
   "cell_type": "code",
   "execution_count": 65,
   "id": "e62e76cf-edef-4325-850b-d7f16291f735",
   "metadata": {},
   "outputs": [],
   "source": [
    "ca_df[\"state\"] = ca_df[\"state\"].astype(\"category\")"
   ]
  },
  {
   "cell_type": "code",
   "execution_count": 66,
   "id": "cd2cac40-b228-4fd0-9093-42f1bbd808a3",
   "metadata": {},
   "outputs": [],
   "source": [
    "state_labels_bins = {\"California\": \"West\", \"Oregon\": \"North West\", \"Washington\": \"East\", \"Navada\": \"Central\", \"Arizona\": \"Central\"} "
   ]
  },
  {
   "cell_type": "code",
   "execution_count": 67,
   "id": "89c76df5-1e43-4fe5-b9e0-b59f57f4e767",
   "metadata": {},
   "outputs": [
    {
     "data": {
      "text/plain": [
       "\"{'California': 'West', 'Oregon': 'North West', 'Washington': 'East', 'Navada': 'Central', 'Arizona': 'Central'}\""
      ]
     },
     "execution_count": 67,
     "metadata": {},
     "output_type": "execute_result"
    }
   ],
   "source": [
    "str(state_labels_bins)"
   ]
  },
  {
   "cell_type": "code",
   "execution_count": 68,
   "id": "b1e0c545-4c9d-4a31-9d31-2c0737a8d9be",
   "metadata": {},
   "outputs": [],
   "source": [
    "ca_df['state'].replace(state_labels_bins, inplace = True)"
   ]
  },
  {
   "cell_type": "code",
   "execution_count": 69,
   "id": "1aec1bb5-97b3-4ef5-be66-f3feece18f33",
   "metadata": {},
   "outputs": [
    {
     "data": {
      "text/plain": [
       "0           East\n",
       "1        Central\n",
       "2         Nevada\n",
       "3           West\n",
       "4           East\n",
       "          ...   \n",
       "12069       West\n",
       "12070       West\n",
       "12071       West\n",
       "12072       West\n",
       "12073       West\n",
       "Name: state, Length: 12074, dtype: object"
      ]
     },
     "execution_count": 69,
     "metadata": {},
     "output_type": "execute_result"
    }
   ],
   "source": [
    "ca_df[\"state\"]"
   ]
  },
  {
   "cell_type": "code",
   "execution_count": 70,
   "id": "cb34f280-3c02-4a7d-b25b-c71baed83748",
   "metadata": {},
   "outputs": [],
   "source": [
    "ca_df[\"state\"] = ca_df[\"state\"].str.lower()"
   ]
  },
  {
   "cell_type": "code",
   "execution_count": 71,
   "id": "16e4905d-33cf-4356-a274-958c26a39b8d",
   "metadata": {},
   "outputs": [],
   "source": [
    "ca_df[\"gender\"] = ca_df[\"gender\"].str.lower()"
   ]
  },
  {
   "cell_type": "code",
   "execution_count": 72,
   "id": "3aa8fd7c-0bb4-4e42-b2ac-42c1c5af7100",
   "metadata": {},
   "outputs": [],
   "source": [
    "ca_df[\"education\"] = ca_df[\"education\"].str.lower()"
   ]
  },
  {
   "cell_type": "code",
   "execution_count": 73,
   "id": "6ac52ca9-1c4a-4650-aa34-1392cf117052",
   "metadata": {},
   "outputs": [],
   "source": [
    "ca_df[\"policy type\"] = ca_df[\"policy type\"].str.lower()"
   ]
  },
  {
   "cell_type": "code",
   "execution_count": 74,
   "id": "a9f308fd-7ece-487f-b9eb-c92764b54138",
   "metadata": {},
   "outputs": [],
   "source": [
    "ca_df[\"vehicle class\"] = ca_df[\"vehicle class\"].str.lower()"
   ]
  },
  {
   "cell_type": "code",
   "execution_count": 75,
   "id": "57374596-43a7-4a2b-8a35-c2a6928fddbf",
   "metadata": {},
   "outputs": [
    {
     "data": {
      "text/html": [
       "<div>\n",
       "<style scoped>\n",
       "    .dataframe tbody tr th:only-of-type {\n",
       "        vertical-align: middle;\n",
       "    }\n",
       "\n",
       "    .dataframe tbody tr th {\n",
       "        vertical-align: top;\n",
       "    }\n",
       "\n",
       "    .dataframe thead th {\n",
       "        text-align: right;\n",
       "    }\n",
       "</style>\n",
       "<table border=\"1\" class=\"dataframe\">\n",
       "  <thead>\n",
       "    <tr style=\"text-align: right;\">\n",
       "      <th></th>\n",
       "      <th>state</th>\n",
       "      <th>gender</th>\n",
       "      <th>education</th>\n",
       "      <th>customer lifetime value</th>\n",
       "      <th>income</th>\n",
       "      <th>monthly premium auto</th>\n",
       "      <th>number of open complaints</th>\n",
       "      <th>policy type</th>\n",
       "      <th>vehicle class</th>\n",
       "      <th>total claim amount</th>\n",
       "    </tr>\n",
       "  </thead>\n",
       "  <tbody>\n",
       "    <tr>\n",
       "      <th>0</th>\n",
       "      <td>east</td>\n",
       "      <td>other</td>\n",
       "      <td>master</td>\n",
       "      <td>8028.8</td>\n",
       "      <td>0.0</td>\n",
       "      <td>1000.0</td>\n",
       "      <td>0.0</td>\n",
       "      <td>personal auto</td>\n",
       "      <td>four-door car</td>\n",
       "      <td>2.704934</td>\n",
       "    </tr>\n",
       "    <tr>\n",
       "      <th>1</th>\n",
       "      <td>central</td>\n",
       "      <td>f</td>\n",
       "      <td>bachelor</td>\n",
       "      <td>8028.8</td>\n",
       "      <td>0.0</td>\n",
       "      <td>94.0</td>\n",
       "      <td>0.0</td>\n",
       "      <td>personal auto</td>\n",
       "      <td>four-door car</td>\n",
       "      <td>1131.464935</td>\n",
       "    </tr>\n",
       "    <tr>\n",
       "      <th>2</th>\n",
       "      <td>nevada</td>\n",
       "      <td>f</td>\n",
       "      <td>bachelor</td>\n",
       "      <td>8028.8</td>\n",
       "      <td>48767.0</td>\n",
       "      <td>108.0</td>\n",
       "      <td>0.0</td>\n",
       "      <td>personal auto</td>\n",
       "      <td>two-door car</td>\n",
       "      <td>566.472247</td>\n",
       "    </tr>\n",
       "    <tr>\n",
       "      <th>3</th>\n",
       "      <td>west</td>\n",
       "      <td>m</td>\n",
       "      <td>bachelor</td>\n",
       "      <td>8028.8</td>\n",
       "      <td>0.0</td>\n",
       "      <td>106.0</td>\n",
       "      <td>0.0</td>\n",
       "      <td>corporate auto</td>\n",
       "      <td>suv</td>\n",
       "      <td>529.881344</td>\n",
       "    </tr>\n",
       "    <tr>\n",
       "      <th>4</th>\n",
       "      <td>east</td>\n",
       "      <td>m</td>\n",
       "      <td>high school or below</td>\n",
       "      <td>8028.8</td>\n",
       "      <td>36357.0</td>\n",
       "      <td>68.0</td>\n",
       "      <td>0.0</td>\n",
       "      <td>personal auto</td>\n",
       "      <td>four-door car</td>\n",
       "      <td>17.269323</td>\n",
       "    </tr>\n",
       "  </tbody>\n",
       "</table>\n",
       "</div>"
      ],
      "text/plain": [
       "     state gender             education  customer lifetime value   income  \\\n",
       "0     east  other                master                   8028.8      0.0   \n",
       "1  central      f              bachelor                   8028.8      0.0   \n",
       "2   nevada      f              bachelor                   8028.8  48767.0   \n",
       "3     west      m              bachelor                   8028.8      0.0   \n",
       "4     east      m  high school or below                   8028.8  36357.0   \n",
       "\n",
       "   monthly premium auto  number of open complaints     policy type  \\\n",
       "0                1000.0                        0.0   personal auto   \n",
       "1                  94.0                        0.0   personal auto   \n",
       "2                 108.0                        0.0   personal auto   \n",
       "3                 106.0                        0.0  corporate auto   \n",
       "4                  68.0                        0.0   personal auto   \n",
       "\n",
       "   vehicle class  total claim amount  \n",
       "0  four-door car            2.704934  \n",
       "1  four-door car         1131.464935  \n",
       "2   two-door car          566.472247  \n",
       "3            suv          529.881344  \n",
       "4  four-door car           17.269323  "
      ]
     },
     "execution_count": 75,
     "metadata": {},
     "output_type": "execute_result"
    }
   ],
   "source": [
    "ca_df.head()"
   ]
  },
  {
   "cell_type": "code",
   "execution_count": 36,
   "id": "ff126c71-e5cf-4910-9f21-467cc628ea37",
   "metadata": {},
   "outputs": [
    {
     "ename": "NameError",
     "evalue": "name 'select_dtypes' is not defined",
     "output_type": "error",
     "traceback": [
      "\u001b[0;31m---------------------------------------------------------------------------\u001b[0m",
      "\u001b[0;31mNameError\u001b[0m                                 Traceback (most recent call last)",
      "\u001b[0;32m/var/folders/nx/7crq4wx155z00jtfy6fbs9bw0000gn/T/ipykernel_1578/431912735.py\u001b[0m in \u001b[0;36m<module>\u001b[0;34m\u001b[0m\n\u001b[0;32m----> 1\u001b[0;31m \u001b[0mtypes_columns\u001b[0m \u001b[0;34m=\u001b[0m \u001b[0mselect_dtypes\u001b[0m\u001b[0;34m(\u001b[0m\u001b[0mincldataude\u001b[0m\u001b[0;34m=\u001b[0m\u001b[0;32mNone\u001b[0m\u001b[0;34m,\u001b[0m \u001b[0mexclude\u001b[0m\u001b[0;34m=\u001b[0m\u001b[0;32mNone\u001b[0m\u001b[0;34m)\u001b[0m\u001b[0;34m\u001b[0m\u001b[0;34m\u001b[0m\u001b[0m\n\u001b[0m",
      "\u001b[0;31mNameError\u001b[0m: name 'select_dtypes' is not defined"
     ]
    }
   ],
   "source": [
    "types_columns = select_dtypes(incldataude=None, exclude=None)"
   ]
  },
  {
   "cell_type": "code",
   "execution_count": null,
   "id": "8a470e50-2504-41c1-ad22-9310be089df3",
   "metadata": {},
   "outputs": [],
   "source": []
  },
  {
   "cell_type": "code",
   "execution_count": null,
   "id": "b235a6d6-7477-4353-98a4-308079c90e47",
   "metadata": {},
   "outputs": [],
   "source": []
  },
  {
   "cell_type": "code",
   "execution_count": null,
   "id": "d4ff9b3e-076e-4a47-8256-e92f8940c253",
   "metadata": {},
   "outputs": [],
   "source": []
  },
  {
   "cell_type": "code",
   "execution_count": null,
   "id": "e97ef3e2-99be-4691-87df-d60e480c8545",
   "metadata": {},
   "outputs": [],
   "source": []
  },
  {
   "cell_type": "code",
   "execution_count": null,
   "id": "bfd240e3-8230-4c2c-9024-a5ceb3f2d03e",
   "metadata": {},
   "outputs": [],
   "source": []
  }
 ],
 "metadata": {
  "kernelspec": {
   "display_name": "Python 3 (ipykernel)",
   "language": "python",
   "name": "python3"
  },
  "language_info": {
   "codemirror_mode": {
    "name": "ipython",
    "version": 3
   },
   "file_extension": ".py",
   "mimetype": "text/x-python",
   "name": "python",
   "nbconvert_exporter": "python",
   "pygments_lexer": "ipython3",
   "version": "3.9.7"
  }
 },
 "nbformat": 4,
 "nbformat_minor": 5
}
